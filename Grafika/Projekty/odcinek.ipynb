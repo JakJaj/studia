{
 "cells": [
  {
   "cell_type": "code",
   "execution_count": null,
   "metadata": {},
   "outputs": [],
   "source": [
    "import numpy as np\n",
    "import matplotlib.pyplot as plt\n",
    "def linePZ(P1:list, P2:list, d:int, RGB:np.array) -> np.array:\n",
    "    \"\"\"Funkcja \n",
    "\n",
    "    Args:\n",
    "        P1 (list): punkt poczatkowy linii\n",
    "        P2 (list): punkt koncowy linii\n",
    "        d (int): grubosc lini w px\n",
    "        RGB (numpy.Array): tablica rgb na ktorej rysujemy prosta\n",
    "    \"\"\"\n",
    "    assert d > 0, \"Grubosc lini musi byc wieksza od 0\"\n",
    "    assert P1[0] < RGB[0] and P2[0] < RGB[0] and P1[1] < RGB[1] and P2[1] < RGB[1], \"Punkty musza zawierac sie w polu rysowania\"\n",
    "    assert P1[0] > 0 and P1[1] > 0 and P2[0] > 0 and P2[1] > 0, \"Punkty musza zawierac sie w polu rysowania\"\n",
    "    \n",
    "    "
   ]
  }
 ],
 "metadata": {
  "language_info": {
   "name": "python"
  }
 },
 "nbformat": 4,
 "nbformat_minor": 2
}
