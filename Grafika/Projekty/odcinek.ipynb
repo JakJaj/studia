{
 "cells": [
  {
   "cell_type": "code",
   "execution_count": 32,
   "metadata": {},
   "outputs": [],
   "source": [
    "import numpy as np\n",
    "import matplotlib.pyplot as plta"
   ]
  },
  {
   "cell_type": "code",
   "execution_count": 74,
   "metadata": {},
   "outputs": [],
   "source": [
    "def bresenham(xp,yp,xk,yk,data):\n",
    "    assert xp < data.shape[0] and xp > 0, \"Niewlasciwa wartosci x poczatkowego\"\n",
    "    assert xk < data.shape[0] and xk > 0, \"Niewlasciwa wartosci x koncowego\"\n",
    "    assert yp < data.shape[1] and yp > 0, \"Niewlasciwa wartosci y poczatkowego\"\n",
    "    assert yk < data.shape[1] and yk > 0, \"Niewlasciwa wartosci y koncowego\"\n",
    "    \n",
    "    dx = abs(xk - xp)\n",
    "    \n",
    "    if(xp < xk):\n",
    "        przyrost_x = 1\n",
    "    else:\n",
    "        przyrost_x = -1\n",
    "    \n",
    "    dy = -1 * abs(yk - yp)\n",
    "    if yp < yk:\n",
    "        przyrost_y = 1\n",
    "    else:\n",
    "        przyrost_y = -1\n",
    "        \n",
    "    odchylenie_od_osi = dx + dy\n",
    "    \n",
    "    while True:\n",
    "        data[xp,yp,0] = 0\n",
    "        data[xp,yp,1] = 0\n",
    "        data[xp,yp,2] = 255\n",
    "        if xp == xk and yp == yk:\n",
    "            break\n",
    "        odchylenie_od_osi2 = 2 * odchylenie_od_osi\n",
    "        \n",
    "        if odchylenie_od_osi2 >= dy:\n",
    "            if xp == xk:\n",
    "                break\n",
    "            odchylenie_od_osi = odchylenie_od_osi + dy\n",
    "            xp = xp + przyrost_x\n",
    "        \n",
    "        if odchylenie_od_osi2 <= dx:\n",
    "            if yp == yk:\n",
    "                break\n",
    "            odchylenie_od_osi = odchylenie_od_osi + dx\n",
    "            yp = yp + przyrost_y\n",
    "            \n",
    "    return data"
   ]
  },
  {
   "cell_type": "code",
   "execution_count": 86,
   "metadata": {},
   "outputs": [],
   "source": [
    "def linePZ(P1:list, P2:list, d:int, RGB:np.array) -> np.array:\n",
    "    \"\"\"\n",
    "    Funkcja rysujaca niebieska linie o okreslonej grubosci na bialym tle\n",
    "\n",
    "    Args:\n",
    "        P1 (list): punkt poczatkowy linii\n",
    "        P2 (list): punkt koncowy linii\n",
    "        d (int): grubosc lini w px\n",
    "        RGB (numpy.Array): tablica rgb na ktorej rysujemy prosta\n",
    "    Returns:\n",
    "        numpy.Array: Tablica RGB zawierajaca narysowana niebieska linie na niebieskim tle\n",
    "    \"\"\"\n",
    "    assert d > 0, \"Grubosc lini musi byc wieksza od 0\"\n",
    "    assert RGB.shape[0] > 0 and RGB.shape[1] > 0, \"Nieodpowiednie wymiary tablicy RGB\"\n",
    "    assert P1[0] >= 0 and P1[0] < RGB.shape[0] and P1[1] >= 0 and P1[1] < RGB.shape[1], \"Punkty musza znajdowac sie na tablicy RGB\"\n",
    "    \n",
    "    #grubosc == 1\n",
    "    if d == 1:\n",
    "        RGB = bresenham(P1[0], P1[1], P2[0], P2[1], RGB)\n",
    "        \n",
    "    elif d > 1:    \n",
    "        szerokosc = d // 2\n",
    "        if abs(P2[0] - P1[0]) > abs(P2[1] - P1[1]):\n",
    "            nowyPoczatek = [P1[0], P1[1] - szerokosc]\n",
    "            nowyKoniec = [P2[0], P2[1] - szerokosc]\n",
    "        else:\n",
    "            nowyPoczatek = [P1[0] - szerokosc, P1[1]]\n",
    "            nowyKoniec = [P2[0] - szerokosc, P2[1]]\n",
    "            \n",
    "        for i in range(d):\n",
    "            RGB = bresenham(nowyPoczatek[0],nowyPoczatek[1],nowyKoniec[0],nowyKoniec[1],RGB)\n",
    "            \n",
    "            if abs(P2[0] - P1[0]) > abs(P2[1] - P1[1]):\n",
    "                nowyPoczatek[1] += 1\n",
    "                nowyKoniec[1] += 1\n",
    "            else:\n",
    "                \n",
    "                nowyPoczatek[0] += 1\n",
    "                nowyKoniec[0] += 1\n",
    "            \n",
    "    return RGB"
   ]
  },
  {
   "cell_type": "code",
   "execution_count": 90,
   "metadata": {},
   "outputs": [
    {
     "data": {
      "text/plain": [
       "<matplotlib.image.AxesImage at 0x12ec37550>"
      ]
     },
     "execution_count": 90,
     "metadata": {},
     "output_type": "execute_result"
    },
    {
     "data": {
      "image/png": "[encoded data removed]",
      "text/plain": [
       "<Figure size 640x480 with 1 Axes>"
      ]
     },
     "metadata": {},
     "output_type": "display_data"
    }
   ],
   "source": [
    "data = np.zeros((100,100,3), dtype=np.uint8)\n",
    "data.fill(255)\n",
    "P1 = [80,20]\n",
    "P2 = [50,60]\n",
    "linePZ(P1,P2,11,data)\n",
    "\n",
    "data[80,20] = 0\n",
    "data[50,60] = 0\n",
    "plt.imshow(data,interpolation='none')"
   ]
  },
  {
   "cell_type": "code",
   "execution_count": null,
   "metadata": {},
   "outputs": [],
   "source": []
  },
  {
   "cell_type": "code",
   "execution_count": null,
   "metadata": {},
   "outputs": [],
   "source": []
  },
  {
   "cell_type": "code",
   "execution_count": null,
   "metadata": {},
   "outputs": [],
   "source": []
  }
 ],
 "metadata": {
  "kernelspec": {
   "display_name": "Python 3",
   "language": "python",
   "name": "python3"
  },
  "language_info": {
   "codemirror_mode": {
    "name": "ipython",
    "version": 3
   },
   "file_extension": ".py",
   "mimetype": "text/x-python",
   "name": "python",
   "nbconvert_exporter": "python",
   "pygments_lexer": "ipython3",
   "version": "3.11.5"
  }
 },
 "nbformat": 4,
 "nbformat_minor": 2
}
