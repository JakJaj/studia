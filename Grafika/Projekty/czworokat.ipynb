{
 "cells": [
  {
   "cell_type": "code",
   "execution_count": null,
   "metadata": {},
   "outputs": [],
   "source": [
    "def quadrilateral(n:int, m:int, P1:list, P2:list, P3:list, P4:list, fill=0):\n",
    "    \"\"\"\n",
    "    Funkcja rysujaca czworokat na polu o podanych wymiarach [n x m].\n",
    "    O punktach kolejnk: P1, P2, P3 i P4, zawierajace wspolrzedne tych punktow\n",
    "    Z mozliwoscia rysowania czworokatu z oraz bez wypelnienia.\n",
    "    Args:\n",
    "        n (int): wymiar n zwracanej tablicy rgb\n",
    "        m (int): wymiar m zwracanej tablicy rgb\n",
    "        P1 (list): wspolrzedne punktu P1\n",
    "        P2 (list): wspolrzedne punktu P2\n",
    "        P3 (list): wspolrzedne punktu P3\n",
    "        P4 (list): wspolrzedne punktu P4\n",
    "        fill (int, optional): Wartosc oznaczajaca czy rysowany czworokat ma byc wypelniony czy ma byc rysowany tylko obwod.\n",
    "        Dla wartosci 1 rysowana jest wypelniona elipsa.\n",
    "        Dla wartosci 0 rysowany jest obwod elipsy i jest to wartosc domyslna.\n",
    "    \"\"\"\n",
    "    \n",
    "    "
   ]
  }
 ],
 "metadata": {
  "language_info": {
   "name": "python"
  }
 },
 "nbformat": 4,
 "nbformat_minor": 2
}
