{
 "cells": [
  {
   "cell_type": "code",
   "execution_count": 27,
   "metadata": {},
   "outputs": [
    {
     "data": {
      "image/png": "[encoded data removed]",
      "text/plain": [
       "<Figure size 640x480 with 1 Axes>"
      ]
     },
     "metadata": {},
     "output_type": "display_data"
    }
   ],
   "source": [
    "import numpy as np\n",
    "import matplotlib.pyplot as plt\n",
    "import math\n",
    "\n",
    "def elipse(n:int, m:int, O:list, a:int, b:int, fill:int = 1) -> np.array:\n",
    "    \"\"\"\n",
    "    Funkcja rysujaca elipse na polu o podanych wymiarach [n x m].\n",
    "    O srodku w punkcie O i podanych dlugosciach polosi a, b.\n",
    "    Z mozliwoscia rysowania elipsy z oraz bez wypelnienia.\n",
    "    Args:\n",
    "        n (int): wymiar n zwracanej tablicy rgb\n",
    "        m (int): wymiar m zwracanej tablicy rgb\n",
    "        O (list): srodek elpipsy\n",
    "        a (int): dlugosc pierwsza polos elpisy\n",
    "        b (int): dlugosc druga polos elipsy\n",
    "        fill (int, optional): Wartosc oznaczajaca czy rysowana elipsa ma byc wypelniona czy ma byc rysowany tylko obwod.\n",
    "        Dla wartosci 1 rysowana jest wypelniona elipsa i jest to wartosc domyslna.\n",
    "        Dla wartosci 0 rysowany jest obwod elipsy.\n",
    "    Returns:\n",
    "        numpy.Array: Tablica RBG z narysowana czarna elipsa na bialym tle\n",
    "    \"\"\"\n",
    "    assert n > 0, \"Tablica RGB musi posiadac wartosc n wiekszy od 0\"\n",
    "    assert m > 0, \"Tablica RGB musi posiadac wartosc m wieksza od 0\"\n",
    "    assert a > 0, \"Dlugosc polosi musi byc miec wartosc wieksza od 0\"\n",
    "    assert b > 0, \"Dlugosc polosi musi byc miec wartosc wieksza od 0\"\n",
    "    assert fill == 0 or fill == 1, \"Wartosc fill moze przyjmowac tylko wartosci 0 lub 1\"\n",
    "    assert O[0] <= n and O[1] <= m and O[0] >= 0 and O[1] >= 0, \"Srodek elipsy musi znajdowac sie wewnatrz obszaru rysowania\"\n",
    "    \n",
    "    RGB = np.zeros((n,m,3), dtype=np.uint8)\n",
    "    RGB.fill(255)\n",
    "    max_polos = max(a,b)\n",
    "    ymin = max(0, O[1] - max_polos)\n",
    "    ymax = min(m, O[1] + max_polos + 1)\n",
    "    xmin = max(0, O[0] - max_polos)\n",
    "    xmax = min(n, O[0] + max_polos + 1)\n",
    "    \n",
    "    for i in range(ymin, ymax):\n",
    "        for j in range (xmin, xmax):  \n",
    "            xx = j - O[0]\n",
    "            yy = i - O[1]\n",
    "            \n",
    "            d = math.sqrt((xx * xx) / (a * a) + (yy * yy) / (b * b))\n",
    "                 \n",
    "            if fill == 1:\n",
    "            \n",
    "                if d< 1:\n",
    "                    RGB[i,j] = 0\n",
    "                     \n",
    "            elif fill == 0:\n",
    "                if d >= 0.98 and d < 1: \n",
    "                    RGB[i,j] = 255 - (255 * (d - 1))\n",
    "    return RGB\n",
    "\n",
    "\n",
    "data = elipse(400,400, [200,200], 150, 100 , 1)\n",
    "plt.imshow(data, interpolation='none', aspect=1)\n",
    "plt.show()\n",
    "plt.imsave('test.png', data, format='png')"
   ]
  },
  {
   "cell_type": "code",
   "execution_count": null,
   "metadata": {},
   "outputs": [],
   "source": []
  }
 ],
 "metadata": {
  "kernelspec": {
   "display_name": "Python 3",
   "language": "python",
   "name": "python3"
  },
  "language_info": {
   "codemirror_mode": {
    "name": "ipython",
    "version": 3
   },
   "file_extension": ".py",
   "mimetype": "text/x-python",
   "name": "python",
   "nbconvert_exporter": "python",
   "pygments_lexer": "ipython3",
   "version": "3.11.5"
  }
 },
 "nbformat": 4,
 "nbformat_minor": 2
}
