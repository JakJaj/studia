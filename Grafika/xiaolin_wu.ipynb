{
 "cells": [
  {
   "cell_type": "code",
   "execution_count": 33,
   "id": "51fd402d-b088-42cd-826c-582cddd1d5e3",
   "metadata": {
    "tags": []
   },
   "outputs": [],
   "source": [
    "import matplotlib.pyplot as plt\n",
    "import numpy as np\n",
    "\n",
    "from math import sqrt\n",
    "\n",
    "\n",
    "def putpixel(data, x, y, color, alpha=1.0):\n",
    "    #print(x, y)\n",
    "    x = int(x)\n",
    "    y = int(y)\n",
    "    bg = data [y][x]\n",
    "    if(alpha>1.0):\n",
    "        alpha=1.\n",
    "    color2 = [0.0, 0.0 ,0.0 ]\n",
    "    color2[0] = alpha * color[0] + (1.0 - alpha) *bg[0]\n",
    "    color2[1] = alpha * color[1] + (1.0 - alpha) *bg[1]\n",
    "    color2[2] = alpha * color[2] + (1.0 - alpha) *bg[2]\n",
    "    data[y, x] = color2\n"
   ]
  },
  {
   "cell_type": "code",
   "execution_count": 34,
   "id": "5f9efc75-a016-4073-bb9a-a946cccf5295",
   "metadata": {
    "tags": []
   },
   "outputs": [],
   "source": [
    "def lineAntiAliasing(x1, y1, x2, y2):\n",
    "    RGB = np.zeros((200, 200, 3), dtype = np.uint8)\n",
    "    RGB.fill(255)\n",
    "    A = y2-y1\n",
    "    B = x1-x2\n",
    "    C = x1*y2-x2*y1\n",
    "    Z = sqrt(A * A + B * B)\n",
    "    for x in range(min(x1, x2) - 1, max(x1, x2) + 2):\n",
    "        for y in range(min(y1, y2) - 1, max(y1, y2) + 2):\n",
    "            d = abs(A * x + B * y + C) / Z\n",
    "            if d<1:\n",
    "                RGB [y, x] = 255 * d\n",
    "                #putpixel(RGB, x, y, color, (1 - d))\n",
    "    return RGB"
   ]
  },
  {
   "cell_type": "code",
   "execution_count": 35,
   "id": "23f68b86-4489-40cb-b083-229085dca8b9",
   "metadata": {
    "tags": []
   },
   "outputs": [],
   "source": [
    "def lineAntiAliasingColor(x1, y1, x2, y2, color):\n",
    "    RGB = np.zeros((200, 200, 3), dtype = np.uint8)\n",
    "    RGB.fill(255)\n",
    "    A = y2-y1\n",
    "    B = x1-x2\n",
    "    C = x1*y2-x2*y1\n",
    "    Z = sqrt(A * A + B * B)\n",
    "    for x in range(min(x1, x2) - 1, max(x1, x2) + 2):\n",
    "        for y in range(min(y1, y2) - 1, max(y1, y2) + 2):\n",
    "            d = abs(A * x + B * y + C) / Z\n",
    "            if d<1:\n",
    "                #RGB [y, x] = 255 * d\n",
    "                putpixel(RGB, x, y, color, (1 - d))\n",
    "    return RGB"
   ]
  },
  {
   "cell_type": "code",
   "execution_count": 36,
   "id": "71307960-1959-4530-84d5-3301769b7808",
   "metadata": {
    "tags": []
   },
   "outputs": [],
   "source": [
    "def lineS(x1, y1, x2, y2):\n",
    "    RGB = np.zeros((200, 200, 3), dtype=np.uint8)\n",
    "    RGB.fill(255)\n",
    "    if (x1 == x2 and y1 == y2):\n",
    "        RGB[x1, y1] = 0\n",
    "        return RGB\n",
    "    if abs(x2 - x1) > abs(y2 - x1):\n",
    "        if x2 < x1:\n",
    "            x1, x2 = x2, x1\n",
    "            y1, y2 = y2, y1\n",
    "        a = (y2 - y1)/(x2-x1)\n",
    "        for x in range(x1, x2+1):\n",
    "            y = y1 + a*(x-x1)\n",
    "            RGB[int(y), x] = 0\n",
    "    else:   \n",
    "        if y2 < y1:\n",
    "            x1, x2 = x2, x1\n",
    "            y1, y2 = y2, y1\n",
    "        a = (x2 - x1)/(y2-y1)\n",
    "        for y in range(y1, y2+1):\n",
    "            x = x1 + a*(y-y1)\n",
    "            RGB[y, int(x)] = 0\n",
    "    return RGB\n"
   ]
  },
  {
   "cell_type": "code",
   "execution_count": null,
   "id": "406a097b-83f8-4cd5-8ce3-8026af153073",
   "metadata": {
    "tags": []
   },
   "outputs": [],
   "source": []
  },
  {
   "cell_type": "code",
   "execution_count": null,
   "id": "793d9584-3e32-4d60-895b-be39a68006b6",
   "metadata": {},
   "outputs": [],
   "source": []
  },
  {
   "cell_type": "code",
   "execution_count": 56,
   "id": "f53d503b-b3bd-4091-b366-604c7a660171",
   "metadata": {
    "tags": []
   },
   "outputs": [],
   "source": [
    "def lineXW(x1, y1, x2, y2, data,color):\n",
    "    def _fpart(x):\n",
    "        return x - int(x)\n",
    " \n",
    "    def _rfpart(x):\n",
    "        return 1.0 - _fpart(x)\n",
    "   \n",
    "    \n",
    "    def _round(x):\n",
    "        return int(np.floor(x+0.5))\n",
    "\n",
    "    dx = x2 - x1\n",
    "    dy = y2 - y1\n",
    "    \n",
    "    steep = abs(dx) < abs(dy)\n",
    "    if(steep):\n",
    "        x1, y1 = y1, x1\n",
    "        x2, y2 = y2, x2\n",
    "    \n",
    "    if( x2 < x1):\n",
    "        x1,x2 = x2,x1\n",
    "        y1,y2 = y2,y1\n",
    "    dx = x2 - x1\n",
    "    dy = y2 - y1\n",
    "    \n",
    "    gradient = dy/dx\n",
    "    \n",
    "    xend = round(x1)\n",
    "    yend = y1 + gradient * (xend - x1)\n",
    "    \n",
    "    xgap = _fpart(x1 + 0.5)\n",
    "    xpxl1 = xend\n",
    "    ypxl1 = np.floor(yend)\n",
    "    \n",
    "    if(steep):\n",
    "        putpixel(data, ypxl1, xpxl1,color, _rfpart(yend) * xgap)\n",
    "        putpixel(data, ypxl1 + 1, xpxl1, color, _fpart(yend) * xgap)\n",
    "    else:\n",
    "        putpixel(data, xpxl1,ypxl1, color, _rfpart(yend) * xgap)\n",
    "        putpixel(data, xpxl1,ypxl1 + 1, color, _fpart(yend) * xgap)\n",
    "    \n",
    "    intery = yend + gradient\n",
    "    xend = np.round(x2)\n",
    "    yend = y2 + gradient * (xend - x2)\n",
    "    xgap = _fpart(x2 + 0.5)\n",
    "    xpxl2 = xend\n",
    "    ypxl2 = np.floor(yend)\n",
    "    \n",
    "    if(steep):\n",
    "        putpixel(data, ypxl2, xpxl2, color, _rfpart(yend) * xgap)\n",
    "        putpixel(data, ypxl2+1, xpxl2, color, _fpart(yend) * xgap)\n",
    "    else:\n",
    "        putpixel(data, xpxl2, ypxl2, color, _rfpart(yend) * xgap)\n",
    "        putpixel(data, xpxl2, ypxl2 + 1, color, _fpart(yend) * xgap)\n",
    "                 \n",
    "    if(steep):\n",
    "        for x in range(xpxl1 + 1, xpxl2):\n",
    "            putpixel(data, np.floor(intery), x, color, _rfpart(intery))\n",
    "            putpixel(data, np.floor(intery) + 1, x, color, _fpart(intery))\n",
    "            intery = intery + gradient\n",
    "    else:\n",
    "        for x in range(xpxl1 + 1, xpxl2):\n",
    "            putpixel(data, x, np.floor(intery), color, _rfpart(intery))\n",
    "            putpixel(data, x, np.floor(intery) + 1, color, _fpart(intery))\n",
    "            intery = intery + gradient\n",
    "    return data"
   ]
  },
  {
   "cell_type": "code",
   "execution_count": 67,
   "id": "0365d1af-58a8-4c8b-b8ae-c94fda5c9fca",
   "metadata": {
    "tags": []
   },
   "outputs": [
    {
     "data": {
      "text/plain": [
       "<matplotlib.image.AxesImage at 0x7f93c66a8a30>"
      ]
     },
     "execution_count": 67,
     "metadata": {},
     "output_type": "execute_result"
    },
    {
     "data": {
      "image/png": "[encoded data removed]",
      "text/plain": [
       "<Figure size 640x480 with 1 Axes>"
      ]
     },
     "metadata": {},
     "output_type": "display_data"
    }
   ],
   "source": [
    "data = np.zeros((200, 200, 3), dtype=np.uint8)\n",
    "data.fill(255)\n",
    "color = [0,0,255]\n",
    "data = lineXW(12,12,150,180,data,color)\n",
    "plt.imshow(data, interpolation='none')"
   ]
  },
  {
   "cell_type": "code",
   "execution_count": 58,
   "id": "a8085418-e815-41db-9f9b-d8e603e6d63d",
   "metadata": {
    "tags": []
   },
   "outputs": [
    {
     "data": {
      "text/plain": [
       "<matplotlib.image.AxesImage at 0x7f93c623e320>"
      ]
     },
     "execution_count": 58,
     "metadata": {},
     "output_type": "execute_result"
    },
    {
     "data": {
      "image/png": "[encoded data removed]",
      "text/plain": [
       "<Figure size 640x480 with 1 Axes>"
      ]
     },
     "metadata": {},
     "output_type": "display_data"
    }
   ],
   "source": [
    "data1=lineAntiAliasing(12, 12, 190, 10)\n",
    "plt.imshow(data1, interpolation='none')"
   ]
  },
  {
   "cell_type": "code",
   "execution_count": null,
   "id": "779f50dd-4f21-480a-b1e6-17ffbd268b56",
   "metadata": {},
   "outputs": [],
   "source": []
  },
  {
   "cell_type": "code",
   "execution_count": 8,
   "id": "f6a3426e-d8d8-4af2-9746-f343dcf71ea3",
   "metadata": {
    "tags": []
   },
   "outputs": [
    {
     "data": {
      "text/plain": [
       "<matplotlib.image.AxesImage at 0x7f93c70534f0>"
      ]
     },
     "execution_count": 8,
     "metadata": {},
     "output_type": "execute_result"
    },
    {
     "data": {
      "image/png": "[encoded data removed]",
      "text/plain": [
       "<Figure size 640x480 with 1 Axes>"
      ]
     },
     "metadata": {},
     "output_type": "display_data"
    }
   ],
   "source": [
    "data2=lineS(12, 12, 160, 120)\n",
    "plt.imshow(data2, interpolation='none')"
   ]
  },
  {
   "cell_type": "code",
   "execution_count": 10,
   "id": "18cfd108-08dd-43d6-bf26-406d826bc206",
   "metadata": {
    "tags": []
   },
   "outputs": [
    {
     "data": {
      "text/plain": [
       "<matplotlib.image.AxesImage at 0x7f93c70ad060>"
      ]
     },
     "execution_count": 10,
     "metadata": {},
     "output_type": "execute_result"
    },
    {
     "data": {
      "image/png": "[encoded data removed]",
      "text/plain": [
       "<Figure size 640x480 with 1 Axes>"
      ]
     },
     "metadata": {},
     "output_type": "display_data"
    }
   ],
   "source": [
    "data3=lineAntiAliasingColor(12, 12, 160, 120,[0,255,0])\n",
    "plt.imshow(data3, interpolation='none')"
   ]
  },
  {
   "cell_type": "code",
   "execution_count": 14,
   "id": "93528775-c47a-4c39-b56f-8aca0052fe2f",
   "metadata": {
    "tags": []
   },
   "outputs": [],
   "source": []
  },
  {
   "cell_type": "code",
   "execution_count": null,
   "id": "ee72e5f6-1be9-49d6-91f2-18ad38633b28",
   "metadata": {},
   "outputs": [],
   "source": []
  }
 ],
 "metadata": {
  "kernelspec": {
   "display_name": "Python 3 (ipykernel)",
   "language": "python",
   "name": "python3"
  },
  "language_info": {
   "codemirror_mode": {
    "name": "ipython",
    "version": 3
   },
   "file_extension": ".py",
   "mimetype": "text/x-python",
   "name": "python",
   "nbconvert_exporter": "python",
   "pygments_lexer": "ipython3",
   "version": "3.10.12"
  }
 },
 "nbformat": 4,
 "nbformat_minor": 5
}
