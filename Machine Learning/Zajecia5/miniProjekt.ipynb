{
 "cells": [
  {
   "cell_type": "markdown",
   "metadata": {},
   "source": [
    "* 21.11.2023"
   ]
  },
  {
   "cell_type": "markdown",
   "metadata": {},
   "source": [
    "### Importujemy potrzebne nam biblioteki\n",
    "___"
   ]
  },
  {
   "cell_type": "code",
   "execution_count": 1,
   "metadata": {},
   "outputs": [],
   "source": [
    "import keras\n",
    "import tensorflow as tf\n",
    "from keras import models\n",
    "from keras import layers\n",
    "import numpy as np\n",
    "import pandas as pd\n",
    "import datetime"
   ]
  },
  {
   "cell_type": "markdown",
   "metadata": {},
   "source": [
    "### Budowanie modelu sieci konwolucyjnej\n",
    "___"
   ]
  },
  {
   "cell_type": "code",
   "execution_count": 2,
   "metadata": {},
   "outputs": [
    {
     "name": "stdout",
     "output_type": "stream",
     "text": [
      "Model: \"sequential\"\n",
      "_________________________________________________________________\n",
      " Layer (type)                Output Shape              Param #   \n",
      "=================================================================\n",
      " conv2d (Conv2D)             (None, 26, 26, 32)        320       \n",
      "                                                                 \n",
      " max_pooling2d (MaxPooling2  (None, 13, 13, 32)        0         \n",
      " D)                                                              \n",
      "                                                                 \n",
      " conv2d_1 (Conv2D)           (None, 11, 11, 64)        18496     \n",
      "                                                                 \n",
      " max_pooling2d_1 (MaxPoolin  (None, 5, 5, 64)          0         \n",
      " g2D)                                                            \n",
      "                                                                 \n",
      " conv2d_2 (Conv2D)           (None, 3, 3, 64)          36928     \n",
      "                                                                 \n",
      "=================================================================\n",
      "Total params: 55744 (217.75 KB)\n",
      "Trainable params: 55744 (217.75 KB)\n",
      "Non-trainable params: 0 (0.00 Byte)\n",
      "_________________________________________________________________\n"
     ]
    }
   ],
   "source": [
    "model = models.Sequential()\n",
    "model.add(layers.Conv2D(32, (3, 3), activation='relu', input_shape=(28,28,1), padding = 'valid'))\n",
    "model.add(layers.MaxPooling2D((2, 2)))\n",
    "model.add(layers.Conv2D(64, (3, 3), activation='relu'))\n",
    "model.add(layers.MaxPooling2D((2, 2)))\n",
    "model.add(layers.Conv2D(64, (3, 3), activation='relu'))\n",
    "\n",
    "model.summary()\n",
    "\n",
    "model.add(layers.Flatten())\n",
    "model.add(layers.Dense(64, activation='relu'))\n",
    "model.add(layers.Dense(24, activation= 'softmax'))"
   ]
  },
  {
   "cell_type": "markdown",
   "metadata": {},
   "source": [
    "### Dane ze zbioru Sign Language MNIST\n",
    "___\n",
    "Zbior zawiera obrazy 28x28 w skali szarosci\n",
    "\n",
    "Kazdy obraz przedstawia dlog prezentujaca litere alfabetu migowego\n",
    "\n",
    "Warto nadmienic ze w zbiorze tym nie znajdziemy litery J poniewaz do wykonania tej litery wymagany jest dodatkowy ruch dlonia"
   ]
  },
  {
   "cell_type": "code",
   "execution_count": 3,
   "metadata": {},
   "outputs": [],
   "source": [
    "data=pd.read_csv('sign_mnist_train.csv')"
   ]
  },
  {
   "cell_type": "code",
   "execution_count": 4,
   "metadata": {},
   "outputs": [
    {
     "data": {
      "text/plain": [
       "(27455, 785)"
      ]
     },
     "execution_count": 4,
     "metadata": {},
     "output_type": "execute_result"
    }
   ],
   "source": [
    "data.shape"
   ]
  },
  {
   "cell_type": "markdown",
   "metadata": {},
   "source": [
    "Ponizej widzimy ze w liscie labeli nie znajduje sie nr 9"
   ]
  },
  {
   "cell_type": "code",
   "execution_count": 5,
   "metadata": {},
   "outputs": [
    {
     "name": "stdout",
     "output_type": "stream",
     "text": [
      "[0, 1, 2, 3, 4, 5, 6, 7, 8, 10, 11, 12, 13, 14, 15, 16, 17, 18, 19, 20, 21, 22, 23, 24]\n"
     ]
    }
   ],
   "source": [
    "print(sorted(data.label.unique())) #ponizej widac brak klasy nr 9"
   ]
  },
  {
   "cell_type": "markdown",
   "metadata": {},
   "source": [
    "Aby pozbyc sie problemu brakujacej klasy kazdy label wiekszy od 9 zmniejszamy o 1"
   ]
  },
  {
   "cell_type": "code",
   "execution_count": 6,
   "metadata": {},
   "outputs": [],
   "source": [
    "def adjust_class_labels(label):\n",
    "   \n",
    "    if label >= 10:\n",
    "        label -= 1\n",
    "    \n",
    "    return label\n",
    "\n",
    "# Adjusting the class labels (training data)\n",
    "data[\"label\"] = data[\"label\"].apply(adjust_class_labels)"
   ]
  },
  {
   "cell_type": "code",
   "execution_count": 7,
   "metadata": {},
   "outputs": [
    {
     "name": "stdout",
     "output_type": "stream",
     "text": [
      "[0, 1, 2, 3, 4, 5, 6, 7, 8, 9, 10, 11, 12, 13, 14, 15, 16, 17, 18, 19, 20, 21, 22, 23]\n"
     ]
    }
   ],
   "source": [
    "print(sorted(data.label.unique()))"
   ]
  },
  {
   "cell_type": "markdown",
   "metadata": {},
   "source": [
    "Rysujemy dwa pierwsze obrazy zeby upewnic sie ze dane zostaly wczytane prawidolowo"
   ]
  },
  {
   "cell_type": "code",
   "execution_count": 8,
   "metadata": {},
   "outputs": [
    {
     "data": {
      "image/png": "[encoded data removed]",
      "text/plain": [
       "<Figure size 1600x1600 with 2 Axes>"
      ]
     },
     "metadata": {},
     "output_type": "display_data"
    }
   ],
   "source": [
    "import matplotlib.image as mpimg\n",
    "import matplotlib.pyplot as plt \n",
    "images=data.drop('label',axis=1).values\n",
    "plt.figure(figsize=(16,16))\n",
    "for i in range(2): \n",
    "    img=images[i].reshape(28,28)\n",
    "    fig = plt.subplot(4,4,i+1)\n",
    "    plt.xlabel(data['label'][i])\n",
    "    plt.imshow(img, cmap='gray')"
   ]
  },
  {
   "cell_type": "markdown",
   "metadata": {},
   "source": [
    "Z danych testowych pozbywamy sie etykiet i etykiety te przypisujemy do oddzielnego zbioru przeznaczonego na etykiety wlasnie\n",
    "\n",
    "Nastepnie ustalamy odpowiedni wymiar danych i przeskalowujemy nasze dane na wartosci z przedzialu [0,1]\n",
    "\n",
    "Na koniec zakodywujemy etykiety za pomocą kategorii"
   ]
  },
  {
   "cell_type": "code",
   "execution_count": 9,
   "metadata": {},
   "outputs": [
    {
     "data": {
      "text/plain": [
       "(27455, 28, 28, 1)"
      ]
     },
     "execution_count": 9,
     "metadata": {},
     "output_type": "execute_result"
    }
   ],
   "source": [
    "x_train = data.drop('label',axis=1)\n",
    "y = data.label\n",
    "\n",
    "x_train = x_train.values.reshape(-1,28,28,1)\n",
    "x_train = x_train/255\n",
    "\n",
    "y_train = keras.utils.to_categorical(y) \n",
    "\n",
    "x_train.shape"
   ]
  },
  {
   "cell_type": "markdown",
   "metadata": {},
   "source": [
    "Jesli istnieje folder z logami naszego modelu to pozbywamy sie go zeby dane nowego modelu mozna bylo pozniej uzyc w tensorboardzie "
   ]
  },
  {
   "cell_type": "code",
   "execution_count": 10,
   "metadata": {},
   "outputs": [],
   "source": [
    "%rm -rf ./logs/"
   ]
  },
  {
   "cell_type": "markdown",
   "metadata": {},
   "source": [
    "Tworzymy callback za pomoca ktorego bedziemy mogli potem otrzymac informacje o procesie uczenia modelu w tensorboardzie"
   ]
  },
  {
   "cell_type": "code",
   "execution_count": 11,
   "metadata": {},
   "outputs": [],
   "source": [
    "log_dir = \"logs/fit/\" + datetime.datetime.now().strftime(\"%Y%m%d-%H%M%S\")\n",
    "tensorboard_callback = tf.keras.callbacks.TensorBoard(log_dir=log_dir, histogram_freq=1)"
   ]
  },
  {
   "cell_type": "markdown",
   "metadata": {},
   "source": [
    "Kompilujemy i fitujemy model z wczesniej zdefiniowanym callbackiem"
   ]
  },
  {
   "cell_type": "code",
   "execution_count": 12,
   "metadata": {},
   "outputs": [
    {
     "name": "stdout",
     "output_type": "stream",
     "text": [
      "Epoch 1/15\n",
      "601/601 [==============================] - 6s 10ms/step - loss: 3.0001 - accuracy: 0.1589 - val_loss: 2.6119 - val_accuracy: 0.2644\n",
      "Epoch 2/15\n",
      "601/601 [==============================] - 6s 10ms/step - loss: 2.0903 - accuracy: 0.4090 - val_loss: 1.6839 - val_accuracy: 0.5015\n",
      "Epoch 3/15\n",
      "601/601 [==============================] - 6s 10ms/step - loss: 1.4188 - accuracy: 0.5819 - val_loss: 1.2311 - val_accuracy: 0.6109\n",
      "Epoch 4/15\n",
      "601/601 [==============================] - 6s 10ms/step - loss: 1.0732 - accuracy: 0.6754 - val_loss: 1.0133 - val_accuracy: 0.6695\n",
      "Epoch 5/15\n",
      "601/601 [==============================] - 6s 10ms/step - loss: 0.8603 - accuracy: 0.7372 - val_loss: 0.7790 - val_accuracy: 0.7497\n",
      "Epoch 6/15\n",
      "601/601 [==============================] - 6s 9ms/step - loss: 0.7068 - accuracy: 0.7813 - val_loss: 0.6407 - val_accuracy: 0.7982\n",
      "Epoch 7/15\n",
      "601/601 [==============================] - 6s 10ms/step - loss: 0.5783 - accuracy: 0.8241 - val_loss: 0.5168 - val_accuracy: 0.8486\n",
      "Epoch 8/15\n",
      "601/601 [==============================] - 6s 10ms/step - loss: 0.4732 - accuracy: 0.8613 - val_loss: 0.4311 - val_accuracy: 0.8748\n",
      "Epoch 9/15\n",
      "601/601 [==============================] - 6s 10ms/step - loss: 0.3836 - accuracy: 0.8888 - val_loss: 0.3526 - val_accuracy: 0.8958\n",
      "Epoch 10/15\n",
      "601/601 [==============================] - 6s 10ms/step - loss: 0.3092 - accuracy: 0.9125 - val_loss: 0.2944 - val_accuracy: 0.9099\n",
      "Epoch 11/15\n",
      "601/601 [==============================] - 6s 10ms/step - loss: 0.2484 - accuracy: 0.9349 - val_loss: 0.2425 - val_accuracy: 0.9264\n",
      "Epoch 12/15\n",
      "601/601 [==============================] - 6s 10ms/step - loss: 0.1955 - accuracy: 0.9513 - val_loss: 0.1783 - val_accuracy: 0.9561\n",
      "Epoch 13/15\n",
      "601/601 [==============================] - 6s 10ms/step - loss: 0.1526 - accuracy: 0.9648 - val_loss: 0.1405 - val_accuracy: 0.9683\n",
      "Epoch 14/15\n",
      "601/601 [==============================] - 6s 10ms/step - loss: 0.1182 - accuracy: 0.9740 - val_loss: 0.0928 - val_accuracy: 0.9840\n",
      "Epoch 15/15\n",
      "601/601 [==============================] - 6s 9ms/step - loss: 0.0900 - accuracy: 0.9820 - val_loss: 0.0812 - val_accuracy: 0.9848\n"
     ]
    }
   ],
   "source": [
    "model.compile(optimizer=tf.keras.optimizers.legacy.RMSprop(learning_rate=1e-4),\n",
    "              loss='categorical_crossentropy',\n",
    "              metrics=['accuracy'])\n",
    "\n",
    "\n",
    "history=model.fit(x_train,y_train, epochs=15 ,validation_split=0.3, callbacks=[tensorboard_callback])"
   ]
  },
  {
   "cell_type": "markdown",
   "metadata": {},
   "source": [
    "Aby wykorzystac mozliwosci ktore gwarantuje nam TensorBoard nalezy uzyc nastepujacej komendy w konsoli\n",
    "\n",
    "```sh\n",
    "tensorboard --logdir logs/fit\n",
    "```\n"
   ]
  },
  {
   "cell_type": "code",
   "execution_count": null,
   "metadata": {},
   "outputs": [],
   "source": [
    "%tensorboard --logdir logs/fit"
   ]
  },
  {
   "cell_type": "code",
   "execution_count": null,
   "metadata": {},
   "outputs": [],
   "source": []
  }
 ],
 "metadata": {
  "kernelspec": {
   "display_name": "Python 3",
   "language": "python",
   "name": "python3"
  },
  "language_info": {
   "codemirror_mode": {
    "name": "ipython",
    "version": 3
   },
   "file_extension": ".py",
   "mimetype": "text/x-python",
   "name": "python",
   "nbconvert_exporter": "python",
   "pygments_lexer": "ipython3",
   "version": "3.11.5"
  }
 },
 "nbformat": 4,
 "nbformat_minor": 2
}
