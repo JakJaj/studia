{
 "cells": [
  {
   "cell_type": "markdown",
   "metadata": {},
   "source": [
    "# 21.11.2023"
   ]
  },
  {
   "cell_type": "markdown",
   "metadata": {},
   "source": [
    "### Importujemy potrzebne nam biblioteki\n",
    "___"
   ]
  },
  {
   "cell_type": "code",
   "execution_count": 1,
   "metadata": {},
   "outputs": [
    {
     "name": "stdout",
     "output_type": "stream",
     "text": [
      "Using TensorFlow backend\n"
     ]
    }
   ],
   "source": [
    "import keras\n",
    "import tensorflow as tf\n",
    "from keras import models\n",
    "from keras import layers\n",
    "import numpy as np\n",
    "import pandas as pd\n",
    "import datetime\n",
    "import keras_tuner as kt"
   ]
  },
  {
   "cell_type": "markdown",
   "metadata": {},
   "source": [
    "### Budowanie modelu sieci konwolucyjnej\n",
    "___"
   ]
  },
  {
   "cell_type": "code",
   "execution_count": 2,
   "metadata": {},
   "outputs": [
    {
     "name": "stdout",
     "output_type": "stream",
     "text": [
      "Model: \"sequential\"\n",
      "_________________________________________________________________\n",
      " Layer (type)                Output Shape              Param #   \n",
      "=================================================================\n",
      " conv1 (Conv2D)              (None, 26, 26, 32)        320       \n",
      "                                                                 \n",
      " maxpool1 (MaxPooling2D)     (None, 13, 13, 32)        0         \n",
      "                                                                 \n",
      " conv2 (Conv2D)              (None, 11, 11, 64)        18496     \n",
      "                                                                 \n",
      " maxpool2 (MaxPooling2D)     (None, 5, 5, 64)          0         \n",
      "                                                                 \n",
      " conv3 (Conv2D)              (None, 3, 3, 64)          36928     \n",

      "                                                                 \n",
      "=================================================================\n",
      "Total params: 55744 (217.75 KB)\n",
      "Trainable params: 55744 (217.75 KB)\n",
      "Non-trainable params: 0 (0.00 Byte)\n",
      "_________________________________________________________________\n"
     ]
    }
   ],
   "source": [
    "model = models.Sequential()\n",
    "model.add(layers.Conv2D(32, (3, 3), activation='relu',name='conv1',input_shape=(28,28,1), padding = 'valid'))\n",
    "model.add(layers.MaxPooling2D((2, 2), name='maxpool1'))\n",
    "model.add(layers.Conv2D(64, (3, 3), activation='relu', name='conv2'))\n",
    "model.add(layers.MaxPooling2D((2, 2), name='maxpool2'))\n",
    "model.add(layers.Conv2D(64, (3, 3), activation='relu', name='conv3'))\n",
    "\n",
    "model.summary()\n",
    "\n",
    "model.add(layers.Flatten(name='Flatten'))\n",
    "model.add(layers.Dense(64, activation='relu', name='Dense1'))\n",
    "model.add(layers.Dense(23, activation= 'softmax', name='Dense2'))"
   ]
  },
  {
   "cell_type": "markdown",
   "metadata": {},
   "source": [
    "### Dane ze zbioru Sign Language MNIST\n",
    "___\n",
    "Zbior zawiera obrazy 28x28 w skali szarosci\n",
    "\n",
    "Kazdy obraz przedstawia dlog prezentujaca litere alfabetu migowego\n",
    "\n",
    "Warto nadmienic ze w zbiorze tym nie znajdziemy litery J poniewaz do wykonania tej litery wymagany jest dodatkowy ruch dlonia"
   ]
  },
  {
   "cell_type": "code",
   "execution_count": 3,
   "metadata": {},
   "outputs": [],
   "source": [
    "data=pd.read_csv('sign_mnist_train.csv')\n",
    "data_test = data=pd.read_csv('sign_mnist_test.csv')"
   ]
  },
  {
   "cell_type": "code",
   "execution_count": 4,
   "metadata": {},
   "outputs": [
    {
     "name": "stdout",
     "output_type": "stream",
     "text": [
      "(7172, 785)\n",
      "(7172, 785)\n"
     ]
    }
   ],
   "source": [
    "print(data.shape)\n",
    "print(data_test.shape)"
   ]
  },
  {
   "cell_type": "markdown",
   "metadata": {},
   "source": [
    "Ponizej widzimy ze w liscie labeli nie znajduje sie nr 9"
   ]
  },
  {
   "cell_type": "code",
   "execution_count": 5,
   "metadata": {},
   "outputs": [
    {
     "name": "stdout",
     "output_type": "stream",
     "text": [
      "[0, 1, 2, 3, 4, 5, 6, 7, 8, 10, 11, 12, 13, 14, 15, 16, 17, 18, 19, 20, 21, 22, 23, 24]\n",
      "[0, 1, 2, 3, 4, 5, 6, 7, 8, 10, 11, 12, 13, 14, 15, 16, 17, 18, 19, 20, 21, 22, 23, 24]\n"
     ]
    }
   ],
   "source": [
    "print(sorted(data.label.unique())) #ponizej widac brak klasy nr 9\n",
    "print(sorted(data_test.label.unique())) #ponizej widac brak klasy nr 9"
   ]
  },
  {
   "cell_type": "markdown",
   "metadata": {},
   "source": [
    "Aby pozbyc sie problemu brakujacej klasy kazdy label wiekszy od 9 zmniejszamy o 1"
   ]
  },
  {
   "cell_type": "code",
   "execution_count": 6,
   "metadata": {},
   "outputs": [],
   "source": [
    "def adjust_class_labels(label):\n",
    "   \n",
    "    if label >= 10:\n",
    "        label -= 1\n",
    "    \n",
    "    return label\n",
    "\n",
    "# Adjusting the class labels (training data)\n",
    "data[\"label\"] = data[\"label\"].apply(adjust_class_labels)\n",
    "data_test[\"label\"] = data_test[\"label\"].apply(adjust_class_labels)"
   ]
  },
  {
   "cell_type": "code",
   "execution_count": 7,
   "metadata": {},
   "outputs": [
    {
     "name": "stdout",
     "output_type": "stream",
     "text": [
      "[0, 1, 2, 3, 4, 5, 6, 7, 8, 9, 10, 11, 12, 13, 14, 15, 16, 17, 18, 19, 20, 21, 22]\n",
      "[0, 1, 2, 3, 4, 5, 6, 7, 8, 9, 10, 11, 12, 13, 14, 15, 16, 17, 18, 19, 20, 21, 22]\n"
     ]
    }
   ],
   "source": [
    "print(sorted(data.label.unique()))\n",
    "print(sorted(data_test.label.unique()))"
   ]
  },
  {
   "cell_type": "markdown",
   "metadata": {},
   "source": [
    "Rysujemy dwa pierwsze obrazy zeby upewnic sie ze dane zostaly wczytane prawidolowo"
   ]
  },
  {
   "cell_type": "code",
   "execution_count": 8,
   "metadata": {},
   "outputs": [
    {
     "data": {
      "image/png": "[encoded data removed]",
      "text/plain": [
       "<Figure size 1600x1600 with 2 Axes>"
      ]
     },
     "metadata": {},
     "output_type": "display_data"
    }
   ],
   "source": [
    "import matplotlib.image as mpimg\n",
    "import matplotlib.pyplot as plt \n",
    "\n",
    "images=data.drop('label',axis=1).values\n",
    "\n",
    "plt.figure(figsize=(16,16))\n",
    "for i in range(2): \n",
    "    img=images[i].reshape(28,28)\n",
    "    fig = plt.subplot(4,4,i+1)\n",
    "    plt.xlabel(data['label'][i])\n",
    "    plt.imshow(img, cmap='gray')"
   ]
  },
  {
   "cell_type": "code",
   "execution_count": null,
   "metadata": {},
   "outputs": [],
   "source": []
  },
  {
   "cell_type": "markdown",
   "metadata": {},
   "source": [
    "Z danych testowych pozbywamy sie etykiet i etykiety te przypisujemy do oddzielnego zbioru przeznaczonego na etykiety wlasnie\n",
    "\n",
    "Nastepnie ustalamy odpowiedni wymiar danych i przeskalowujemy nasze dane na wartosci z przedzialu [0,1]\n",
    "\n",
    "Na koniec zakodywujemy etykiety za pomocą kategorii"
   ]
  },
  {
   "cell_type": "code",
   "execution_count": 9,
   "metadata": {},
   "outputs": [
    {
     "name": "stdout",
     "output_type": "stream",
     "text": [
      "(7172, 28, 28, 1)\n",
      "(7172, 23)\n",
      "(7172, 28, 28, 1)\n",
      "(7172, 23)\n"
     ]
    }
   ],
   "source": [
    "x_train = data.drop('label',axis=1)\n",
    "x_test = data_test.drop('label', axis=1)\n",
    "\n",
    "y_train = data.label\n",
    "y_test = data_test.label\n",
    "\n",
    "x_train = x_train.values.reshape(-1,28,28,1)\n",
    "x_train = x_train/255\n",
    "\n",
    "x_test = x_test.values.reshape(-1,28,28,1)\n",
    "x_test = x_test/255\n",
    "\n",
    "y_train = keras.utils.to_categorical(y_train) \n",
    "y_test = keras.utils.to_categorical(y_test)\n",
    "\n",
    "print(x_train.shape)\n",
    "print(y_train.shape)\n",
    "print(x_test.shape)\n",
    "print(y_test.shape)"
   ]
  },
  {
   "cell_type": "markdown",
   "metadata": {},
   "source": [
    "Jesli istnieje folder z logami naszego modelu to pozbywamy sie go zeby dane nowego modelu mozna bylo pozniej uzyc w tensorboardzie "
   ]
  },
  {
   "cell_type": "code",
   "execution_count": 10,
   "metadata": {},
   "outputs": [],
   "source": [
    "%rm -rf ./logs/fit/first/"
   ]
  },
  {
   "cell_type": "markdown",
   "metadata": {},
   "source": [
    "Tworzymy callback za pomoca ktorego bedziemy mogli potem otrzymac informacje o procesie uczenia modelu w tensorboardzie"
   ]
  },
  {
   "cell_type": "code",
   "execution_count": 11,
   "metadata": {},
   "outputs": [],
   "source": [
    "log_dir = \"logs/fit/first/\"\n",
    "tensorboard_callback = tf.keras.callbacks.TensorBoard(log_dir=log_dir, histogram_freq=1, write_graph=True, write_images=False)"
   ]
  },
  {
   "cell_type": "markdown",
   "metadata": {},
   "source": [
    "Kompilujemy i fitujemy model z wczesniej zdefiniowanym callbackiem"
   ]
  },
  {
   "cell_type": "code",
   "execution_count": 12,
   "metadata": {},
   "outputs": [
    {
     "name": "stdout",
     "output_type": "stream",
     "text": [
      "Epoch 1/15\n",
      "157/157 [==============================] - 2s 10ms/step - loss: 3.1019 - accuracy: 0.0821 - val_loss: 3.0577 - val_accuracy: 0.1004\n",
      "Epoch 2/15\n",
      "157/157 [==============================] - 1s 10ms/step - loss: 3.0262 - accuracy: 0.1361 - val_loss: 2.9608 - val_accuracy: 0.1808\n",
      "Epoch 3/15\n",
      "157/157 [==============================] - 2s 10ms/step - loss: 2.8865 - accuracy: 0.1849 - val_loss: 2.7643 - val_accuracy: 0.2063\n",
      "Epoch 4/15\n",
      "157/157 [==============================] - 2s 10ms/step - loss: 2.6340 - accuracy: 0.2534 - val_loss: 2.4631 - val_accuracy: 0.2844\n",
      "Epoch 5/15\n",
      "157/157 [==============================] - 2s 10ms/step - loss: 2.3489 - accuracy: 0.3175 - val_loss: 2.2044 - val_accuracy: 0.3666\n",
      "Epoch 6/15\n",
      "157/157 [==============================] - 2s 11ms/step - loss: 2.1005 - accuracy: 0.3855 - val_loss: 1.9670 - val_accuracy: 0.4173\n",
      "Epoch 7/15\n",
      "157/157 [==============================] - 2s 11ms/step - loss: 1.8903 - accuracy: 0.4502 - val_loss: 1.7880 - val_accuracy: 0.4670\n",
      "Epoch 8/15\n",
      "157/157 [==============================] - 2s 11ms/step - loss: 1.7064 - accuracy: 0.5062 - val_loss: 1.6071 - val_accuracy: 0.5218\n",
      "Epoch 9/15\n",
      "157/157 [==============================] - 2s 11ms/step - loss: 1.5394 - accuracy: 0.5584 - val_loss: 1.4843 - val_accuracy: 0.5474\n",
      "Epoch 10/15\n",
      "157/157 [==============================] - 2s 11ms/step - loss: 1.3887 - accuracy: 0.5984 - val_loss: 1.3398 - val_accuracy: 0.6004\n",
      "Epoch 11/15\n",
      "157/157 [==============================] - 2s 10ms/step - loss: 1.2459 - accuracy: 0.6414 - val_loss: 1.1901 - val_accuracy: 0.6557\n",
      "Epoch 12/15\n",
      "157/157 [==============================] - 2s 10ms/step - loss: 1.1249 - accuracy: 0.6823 - val_loss: 1.0821 - val_accuracy: 0.6961\n",
      "Epoch 13/15\n",
      "157/157 [==============================] - 2s 10ms/step - loss: 1.0150 - accuracy: 0.7157 - val_loss: 0.9741 - val_accuracy: 0.7240\n",
      "Epoch 14/15\n",
      "157/157 [==============================] - 2s 10ms/step - loss: 0.9170 - accuracy: 0.7508 - val_loss: 0.8844 - val_accuracy: 0.7393\n",
      "Epoch 15/15\n",
      "157/157 [==============================] - 2s 10ms/step - loss: 0.8289 - accuracy: 0.7789 - val_loss: 0.7832 - val_accuracy: 0.7788\n"
     ]
    }
   ],
   "source": [
    "model.compile(optimizer=tf.keras.optimizers.legacy.RMSprop(learning_rate=1e-4),\n",
    "              loss='categorical_crossentropy',\n",
    "              metrics=['accuracy'])\n",
    "\n",
    "\n",
    "history=model.fit(x_train, y_train, epochs=15 ,validation_split=0.3, callbacks=[tensorboard_callback])"
   ]
  },
  {
   "cell_type": "markdown",
   "metadata": {},
   "source": [
    "Sprawdzamy jak model da sobie rade na danych testowych"
   ]
  },
  {
   "cell_type": "code",
   "execution_count": 13,
   "metadata": {},
   "outputs": [
    {
     "name": "stdout",
     "output_type": "stream",
     "text": [
      "225/225 [==============================] - 1s 3ms/step - loss: 0.7783 - accuracy: 0.7814\n",
      "Dokladnosc modelu na danych testowych to: 0.7813720107078552 ze strata rowna 0.7782968878746033\n"
     ]
    }
   ],
   "source": [
    "test_loss, test_accuracy = model.evaluate(x_test,y_test)\n",
    "print(f\"Dokladnosc modelu na danych testowych to: {test_accuracy} ze strata rowna {test_loss}\")\n"
   ]
  },
  {
   "cell_type": "markdown",
   "metadata": {},
   "source": [
    "Aby wykorzystac mozliwosci ktore gwarantuje nam TensorBoard nalezy uzyc nastepujacej komendy w konsoli\n",
    "\n",
    "```sh\n",
    "tensorboard --logdir logs/fit/first/\n",
    "```\n"
   ]
  },
  {
   "cell_type": "code",
   "execution_count": 14,
   "metadata": {},
   "outputs": [
    {
     "name": "stderr",
     "output_type": "stream",
     "text": [
      "UsageError: Line magic function `%tensorboard` not found.\n"
     ]
    }
   ],
   "source": [
    "%tensorboard --logdir logs/fit/first/ --port 6006"
   ]
  },
  {
   "cell_type": "markdown",
   "metadata": {},
   "source": [
    "# Informacje z tensorboard\n",
    "* Model uczy sie\n",
    "* Model powinien uczyc sie wieksza liczbe epok poniewaz:\n",
    "    * Dokladnosc rosnie\n",
    "    * Strata maleje\n"
   ]
  },
  {
   "cell_type": "markdown",
   "metadata": {},
   "source": [
    "# 28.11.2023"
   ]
  },
  {
   "cell_type": "markdown",
   "metadata": {},
   "source": [
    "## Tuner\n",
    "\n",
    "W ponizszej implementacji funkcji build_model do tunera modelu konwolucyjnej sieci neuronowej tunujemy nastepujace hiperparametry:\n",
    "* Liczbe warst Conv2D i co za tym idzie rowniez liczbe warstw Pooling\n",
    "* W warstwie Conv2D tunujemy:\n",
    "    * Liczbe filtrow z przedzialu [32,256]\n",
    "    * Wielkosc kernela przechodzacego przez obraz z przedzialu [3,5]\n",
    "* Rodzaj warstwy pooling wybieramy pomiedzy:\n",
    "    * MaxPooling - w tym przypadku filtr bierze wartosc maksymalna w danym kernelu\n",
    "    * AvgPooling - w tym przypadku filtr bierze wartosc srednia w danym kernelu\n",
    "* Liczbe warstw lub wartstwy gestej wystepujacych po warstwie splaszczajacej w tym przypadku wybieramy:\n",
    "    * Liczbe warstw gestych\n",
    "    * Liczbe neuronow w kazdej warstwie\n",
    "* W warstwie Dropout tunujemy dropout rate, aby ograniczyc przetrenowanie\n",
    "* Wspolczynnik uczenia\n",
    "* Optimizer w ktorym wybieramy pomiedzy:\n",
    "    * Stochastycznym spadkiem wzdluz gradientu, SGD\n",
    "    * Adam\n"
   ]
  },
  {
   "cell_type": "code",
   "execution_count": 15,
   "metadata": {},
   "outputs": [],
   "source": [
    "def build_model(hp):\n",
    "    model = keras.Sequential()\n",
    "    \n",
    "    for i in range(hp.Int('num_conv_layers', min_value=1, max_value=4)): #tunujemy liczbe warstw Conv2D\n",
    "        model.add(layers.Conv2D(\n",
    "            filters=hp.Int(f'{i}_conv_filters', min_value=32, max_value=256, step=32), #tunowanie liczby filtrow\n",
    "            kernel_size=hp.Choice(f'{i}_conv_kernel_size', values=[3, 5]), #tunowanie wielkosci kernela\n",
    "            activation='relu',\n",
    "            input_shape=(28, 28, 1),\n",
    "            name=f'{i}_conv_layer' \n",
    "        ))\n",
    "        \n",
    "        pooling = hp.Choice(f'{i}_pooling', values=['max','avg']) #tunowanie wyboru warstwy pooling \n",
    "        \n",
    "        if pooling == 'max':\n",
    "            model.add(layers.MaxPooling2D(pool_size=(2, 2),name=f'{i}_max_pooling')) \n",
    "        else:\n",
    "            model.add(layers.AveragePooling2D(pool_size=(2, 2), name=f'{i}_avg_pooling'))\n",
    "\n",
    "    model.add(layers.Flatten(name='flatten')) #splaszczanie\n",
    "\n",
    "    for j in range(hp.Int('num_dense_layers', min_value=1, max_value=3)): #tunowanie liczby warstw gestych\n",
    "        model.add(layers.Dense(\n",
    "            units=hp.Int(f'{j}_n_neurons', min_value=32, max_value=512, step=32), #tunowanie liczby neuronow w warstwie gestej\n",
    "            activation='relu',\n",
    "            name=f'{j}_dence_layer'\n",
    "            ))\n",
    "        \n",
    "        model.add(layers.Dropout(rate=hp.Float(f'{j}_dropout', min_value=0.0, max_value=0.5, step=0.1))) #tunowanie dropout rate\n",
    "\n",
    "    model.add(layers.Dense(23, activation='softmax',name='output_layer')) \n",
    "\n",
    "    learning_rate = hp.Float(\"learning_rate\", min_value=1e-4, max_value=1e-2, sampling=\"log\") #tunowanie learning rate\n",
    "    optimizer = hp.Choice(\"optimizer\", values=[\"sgd\", \"adam\"]) #tunowanie optimizera\n",
    "    \n",
    "    if optimizer == \"sgd\":\n",
    "        optimizer = tf.keras.optimizers.legacy.SGD(learning_rate=learning_rate)\n",
    "    else:\n",
    "        optimizer = tf.keras.optimizers.legacy.Adam(learning_rate=learning_rate)\n",
    "        \n",
    "    model.compile(optimizer=optimizer,\n",
    "                  loss='categorical_crossentropy',  \n",
    "                  metrics=['accuracy'])\n",
    "\n",
    "    return model"
   ]
  },
  {
   "cell_type": "markdown",
   "metadata": {},
   "source": [
    "Definiujemy nastepujace callbacki:\n",
    "* tensorboard_callback - aby mozliwe bylo uzywanie tensorboard_callback\n",
    "* early_stopping_cb - aby w momencie kiedy model przestaje sie uczyc. Uczenie sie zatrzymywalo"
   ]
  },
  {
   "cell_type": "code",
   "execution_count": 16,
   "metadata": {},
   "outputs": [],
   "source": [
    "early_stopping_cb = tf.keras.callbacks.EarlyStopping(patience=8,restore_best_weights=True)\n",
    "log_dir = \"logs/fit/tuner/\" + datetime.datetime.now().strftime(\"%Y%m%d-%H%M%S\")\n",
    "tensorboard_callback = tf.keras.callbacks.TensorBoard(log_dir=log_dir, histogram_freq=1, write_graph=True, write_images=False)"
   ]
  },
  {
   "cell_type": "markdown",
   "metadata": {},
   "source": [
    "Definiujemy tuner hyperband"
   ]
  },
  {
   "cell_type": "code",
   "execution_count": 17,
   "metadata": {},
   "outputs": [],
   "source": [
    "hyperband_tuner = kt.Hyperband(\n",
    "    build_model, objective=\"val_accuracy\", seed=33,\n",
    "    max_epochs=10, factor=3, hyperband_iterations=4,\n",
    "    overwrite=True, directory=\"sign_mnist\", project_name=\"hyperband\")"
   ]
  },
  {
   "cell_type": "markdown",
   "metadata": {},
   "source": [
    "Ponownie pozbywamy sie logow poprzedniego modelu zeby tensorboard mial miejsce z ktorego bedzie mogl pobierac informacje o modelu"
   ]
  },
  {
   "cell_type": "code",
   "execution_count": 18,
   "metadata": {},
   "outputs": [],
   "source": [
    "%rm -rf ./logs/fit/tuner/"
   ]
  },
  {
   "cell_type": "markdown",
   "metadata": {},
   "source": [
    "Tunujemy hiperparametry z wczesniej zadeklarowanymi callbackami"
   ]
  },
  {
   "cell_type": "code",
   "execution_count": 19,
   "metadata": {},
   "outputs": [
    {
     "name": "stdout",
     "output_type": "stream",
     "text": [
      "Trial 95 Complete [00h 02m 00s]\n",
      "val_accuracy: 0.05714285746216774\n",
      "\n",
      "Best val_accuracy So Far: 1.0\n",
      "Total elapsed time: 00h 23m 39s\n"
     ]
    }
   ],
   "source": [
    "hyperband_tuner.search(x_train, y_train, epochs=20, validation_split=0.2, callbacks=[early_stopping_cb,tensorboard_callback])"
   ]
  },
  {
   "cell_type": "markdown",
   "metadata": {},
   "source": [
    "Pobieramy najlepsze 2 wyniki z ktorych pobieramy najlepszy model wraz z jego parametrami"
   ]
  },
  {
   "cell_type": "code",
   "execution_count": 20,
   "metadata": {},
   "outputs": [
    {
     "name": "stdout",
     "output_type": "stream",
     "text": [
      "Parametry hyperband{'num_conv_layers': 2, '0_conv_filters': 256, '0_conv_kernel_size': 3, '0_pooling': 'max', 'num_dense_layers': 2, '0_n_neurons': 64, '0_dropout': 0.0, 'learning_rate': 0.00304325168554751, 'optimizer': 'adam', '1_conv_filters': 256, '1_conv_kernel_size': 3, '1_pooling': 'max', '2_conv_filters': 96, '2_conv_kernel_size': 5, '2_pooling': 'max', '1_n_neurons': 192, '1_dropout': 0.30000000000000004, '2_n_neurons': 448, '2_dropout': 0.0, 'tuner/epochs': 10, 'tuner/initial_epoch': 4, 'tuner/bracket': 2, 'tuner/round': 2, 'tuner/trial_id': '0012'}\n"
     ]
    }
   ],
   "source": [
    "two_best_model_hyperband = hyperband_tuner.get_best_models(num_models=2)\n",
    "best_model_hyperband = two_best_model_hyperband[0]\n",
    "params_hyperband = hyperband_tuner.get_best_hyperparameters(num_trials=5)\n",
    "print(f\"Parametry hyperband{params_hyperband[0].values}\")"
   ]
  },
  {
   "cell_type": "markdown",
   "metadata": {},
   "source": [
    "Aby wykorzystac mozliwosci ktore gwarantuje nam TensorBoard nalezy uzyc nastepujacej komendy w konsoli\n",
    "\n",
    "```sh\n",
    "tensorboard --logdir logs/fit/second/\n",
    "```"
   ]
  },
  {
   "cell_type": "code",
   "execution_count": 21,
   "metadata": {},
   "outputs": [
    {
     "name": "stderr",
     "output_type": "stream",
     "text": [
      "UsageError: Line magic function `%tensorboard` not found.\n"
     ]
    }
   ],
   "source": [
    "%tensorboard --logdir logs/fit/tuner/ --port 6006"
   ]
  },
  {
   "cell_type": "markdown",
   "metadata": {},
   "source": [
    "Dzieki powyzszej komendzie mozemy zobaczyc jak radzily sobie wszystkie tunowane modele,\n",
    "odrazu widac ktore z nich radzily sobie slabo, ktore przecietnie, i jakie okazaly sie bardzo dobre w tym przypadku."
   ]
  },
  {
   "cell_type": "markdown",
   "metadata": {},
   "source": [
    "Przygotowujemy sobie miejsce do wstawienia informacji o fitowaniu najlepszego modelu"
   ]
  },
  {
   "cell_type": "code",
   "execution_count": 22,
   "metadata": {},
   "outputs": [],
   "source": [
    "%rm -rf ./logs/fit/best/"
   ]
  },
  {
   "cell_type": "code",
   "execution_count": 23,
   "metadata": {},
   "outputs": [],
   "source": [
    "log_dir = \"logs/fit/best/\" + datetime.datetime.now().strftime(\"%Y%m%d-%H%M%S\")\n",
    "tensorboard_callback = tf.keras.callbacks.TensorBoard(log_dir=log_dir, histogram_freq=1, write_graph=True, write_images=False)"
   ]
  },
  {
   "cell_type": "markdown",
   "metadata": {},
   "source": [
    "Fitujemy nasz wytunowany model na danych treningowych wraz z callbackami"
   ]
  },
  {
   "cell_type": "code",
   "execution_count": 24,
   "metadata": {},
   "outputs": [
    {
     "name": "stdout",
     "output_type": "stream",
     "text": [
      "Epoch 1/5\n",
      "180/180 [==============================] - 11s 63ms/step - loss: 0.0056 - accuracy: 0.9988 - val_loss: 2.7938e-04 - val_accuracy: 1.0000\n",
      "Epoch 2/5\n",
      "180/180 [==============================] - 11s 61ms/step - loss: 0.0021 - accuracy: 0.9998 - val_loss: 9.0082e-05 - val_accuracy: 1.0000\n",
      "Epoch 3/5\n",
      "180/180 [==============================] - 11s 61ms/step - loss: 0.0010 - accuracy: 1.0000 - val_loss: 7.9733e-05 - val_accuracy: 1.0000\n",
      "Epoch 4/5\n",
      "180/180 [==============================] - 11s 62ms/step - loss: 0.0631 - accuracy: 0.9805 - val_loss: 0.0505 - val_accuracy: 0.9798\n",
      "Epoch 5/5\n",
      "180/180 [==============================] - 12s 65ms/step - loss: 0.0286 - accuracy: 0.9897 - val_loss: 0.0017 - val_accuracy: 1.0000\n"
     ]
    },
    {
     "data": {
      "text/plain": [
       "<keras.src.callbacks.History at 0x319329f90>"
      ]
     },
     "execution_count": 24,
     "metadata": {},
     "output_type": "execute_result"
    }
   ],
   "source": [
    "best_model_hyperband.fit(x_train, y_train, validation_split=0.2, epochs=5,callbacks=[tensorboard_callback,early_stopping_cb])"
   ]
  },
  {
   "cell_type": "markdown",
   "metadata": {},
   "source": [
    "Ewaluujemy nasz model na danych testowych i wypisujemy dokladnosc i strate"
   ]
  },
  {
   "cell_type": "code",
   "execution_count": 25,
   "metadata": {},
   "outputs": [
    {
     "name": "stdout",
     "output_type": "stream",
     "text": [
      "225/225 [==============================] - 4s 17ms/step - loss: 0.0017 - accuracy: 1.0000\n",
      "Model po tunowaniu na danych testowych otrzymuje dokladnosci na poziomie: 1.0.\n",
      "Z strata na poziomie: 0.001710424548946321\n"
     ]
    }
   ],
   "source": [
    "test_loss, test_accuracy = best_model_hyperband.evaluate(x_test,y_test)\n",
    "print(f\"Model po tunowaniu na danych testowych otrzymuje dokladnosci na poziomie: {test_accuracy}.\\nZ strata na poziomie: {test_loss}\")"
   ]
  },
  {
   "cell_type": "markdown",
   "metadata": {},
   "source": [
    "Na koniec sprawdzamy jak sprawdzil sie najlepszy model\n",
    "\n",
    "```sh\n",
    "tensorboard --logdir logs/fit/best/\n",
    "```\n"
   ]
  },
  {
   "cell_type": "code",
   "execution_count": 26,
   "metadata": {},
   "outputs": [
    {
     "name": "stderr",
     "output_type": "stream",
     "text": [
      "UsageError: Line magic function `%tensorboard` not found.\n"
     ]
    }
   ],
   "source": [
    "%tensorboard --logdir logs/fit/best/ --port 6006"
   ]
  },
  {
   "cell_type": "markdown",
   "metadata": {},
   "source": [
    "Tutaj widac ze model dziala wybitnie na danych. Dokladnosc niemal odrazu osiaga 100% przy niewielkiej stracie.\n",
    "\n",
    "Widac jak wiele zyskujemy uzywajac tunera. Ktory utworzyl model ktory w 2 epoki osiaga wynik 100% kiedy model skladany recznie po 15 epokach moze sie pochwalic 78% dokladnoscia.\n",
    "\n"
   ]
  },
  {
   "cell_type": "markdown",
   "metadata": {},
   "source": [
    "Jesli proces nie chce sie uruchomic to warto sprawdzic czy poprzedni nie dziala w tle."
   ]
  },
  {
   "cell_type": "code",
   "execution_count": 27,
   "metadata": {},
   "outputs": [
    {
     "name": "stderr",
     "output_type": "stream",
     "text": [
      "UsageError: Line magic function `%lsof` not found.\n"
     ]
    }
   ],
   "source": [
    "%lsof -i :6006"
   ]
  }
 ],
 "metadata": {
  "kernelspec": {
   "display_name": "Python 3",
   "language": "python",
   "name": "python3"
  },
  "language_info": {
   "codemirror_mode": {
    "name": "ipython",
    "version": 3
   },
   "file_extension": ".py",
   "mimetype": "text/x-python",
   "name": "python",
   "nbconvert_exporter": "python",
   "pygments_lexer": "ipython3",
   "version": "3.11.5"
  }
 },
 "nbformat": 4,
 "nbformat_minor": 2
}
