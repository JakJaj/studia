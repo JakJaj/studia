{
 "cells": [
  {
   "cell_type": "code",
   "execution_count": 1,
   "metadata": {
    "id": "3XapuR5r14_f"
   },
   "outputs": [],
   "source": [
    "import sys\n",
    "\n",
    "assert sys.version_info >= (3, 7)"
   ]
  },
  {
   "cell_type": "code",
   "execution_count": 2,
   "metadata": {
    "id": "i-mdfFQV14_h"
   },
   "outputs": [],
   "source": [
    "from packaging import version\n",
    "import tensorflow as tf\n",
    "\n",
    "assert version.parse(tf.__version__) >= version.parse(\"2.8.0\")"
   ]
  },
  {
   "cell_type": "code",
   "execution_count": 3,
   "metadata": {
    "id": "5rPlHIqU14_i"
   },
   "outputs": [],
   "source": [
    "import matplotlib.pyplot as plt\n",
    "\n",
    "plt.rc('font', size=14)\n",
    "plt.rc('axes', labelsize=14, titlesize=14)\n",
    "plt.rc('legend', fontsize=14)\n",
    "plt.rc('xtick', labelsize=10)\n",
    "plt.rc('ytick', labelsize=10)"
   ]
  },
  {
   "cell_type": "markdown",
   "metadata": {
    "id": "PaVLK2SG14_7"
   },
   "source": [
    "## Odpowiedz na ponizsze pytania (1 pkt za każde pytanie)"
   ]
  },
  {
   "cell_type": "markdown",
   "metadata": {
    "id": "44VLglb414_7"
   },
   "source": [
    "1. Jaki problem ma rozwiązać inicjalizacja Glorot i inicjalizacja He?"
   ]
  },
  {
   "cell_type": "markdown",
   "metadata": {},
   "source": [
    "Dzieki inicjalizacji Glotot i He nie wystepuje problem zanikajacych gradientow."
   ]
  },
  {
   "cell_type": "markdown",
   "metadata": {
    "id": "44VLglb414_7"
   },
   "source": [
    "2. Czy można zainicjować wszystkie wagi na tę samą wartość, o ile ta wartość jest wybierana losowo przy użyciu inicjalizacji He?"
   ]
  },
  {
   "cell_type": "markdown",
   "metadata": {},
   "source": [
    "Nie jest to mozliwe, wagi tego beda rozne."
   ]
  },
  {
   "cell_type": "markdown",
   "metadata": {
    "id": "44VLglb414_7"
   },
   "source": [
    "3. Czy można zainicjować wyraz wolny (bias) na 0?"
   ]
  },
  {
   "cell_type": "markdown",
   "metadata": {},
   "source": [
    "Jest to mozliwe, za pomoca bias_initializer='zeros'."
   ]
  },
  {
   "cell_type": "markdown",
   "metadata": {
    "id": "44VLglb414_7"
   },
   "source": [
    "4. W jakich przypadkach należy uzywać funkcji aktywacyjnych omówionych w na tych zajęciach?"
   ]
  },
  {
   "cell_type": "markdown",
   "metadata": {},
   "source": [
    "Przedstawione na zajeciach funkcje aktywacyjne nalezy uzywac kiedy mamy do czynienia z bardziej skomplikwanymi modelami."
   ]
  },
  {
   "cell_type": "markdown",
   "metadata": {
    "id": "44VLglb414_7"
   },
   "source": [
    "5. Co może się stać, jeśli podczas korzystania z optymalizatora SGD ustawisz hiperparametr `momentum` na zbyt blisko 1 (np. 0,99999)?"
   ]
  },
  {
   "cell_type": "markdown",
   "metadata": {},
   "source": [
    "Moze wystopic problem polegajacy na wystapieniu zbyt duzego pedu spadku co spowoduje, ominiecie minimum."
   ]
  },
  {
   "cell_type": "markdown",
   "metadata": {
    "id": "44VLglb414_7"
   },
   "source": [
    "6. Wymień trzy sposoby tworzenia rzadkiego modelu."
   ]
  },
  {
   "cell_type": "markdown",
   "metadata": {},
   "source": [
    "* Zastosowanie warstwy dropout \n",
    "* Zastosowanie regualryzacji ℓ1\n",
    "* Stworzenie niepelnego modelu"
   ]
  },
  {
   "cell_type": "markdown",
   "metadata": {
    "id": "44VLglb414_7"
   },
   "source": [
    "7. Czy metoda porzucenia (`Dropout`) spowalnia trening? Czy spowalnia wnioskowanie (tj. przewidywanie nowych przypadków)?"
   ]
  },
  {
   "cell_type": "markdown",
   "metadata": {},
   "source": [
    "* Metoda nieznacznie spowalnia trening. Lecz wszystko zalezy od wartosci porzucenia przy duzych wartosc porzucenia \n",
    "trening moze sie spowolnic i trening moze stracic na stabilnosci\n",
    "\n",
    "* Jesli chodzi o wnioskowanie to dropout nie wplywa w zaden spobob na ten proces."
   ]
  },
  {
   "cell_type": "markdown",
   "metadata": {
    "id": "UoePQbhz14_7"
   },
   "source": [
    "## Uczenie głębokie na zestawie cifar10"
   ]
  },
  {
   "cell_type": "code",
   "execution_count": 4,
   "metadata": {
    "id": "HyqL3pP214_8"
   },
   "outputs": [],
   "source": [
    "import tensorflow as tf\n",
    "from pathlib import Path\n",
    "import matplotlib.pyplot as plt\n",
    "tf.random.set_seed(42)"
   ]
  },
  {
   "cell_type": "markdown",
   "metadata": {},
   "source": [
    "Zbiór danych składa się z 60 000 kolorowych obrazów o wymiarach 32 × 32 pikseli (50 000 do trenowania, 10 000 do testowania) z 10 klasami, więc będziesz potrzebować warstwy wyjściowej softmax z 10 neuronami. "
   ]
  },
  {
   "cell_type": "code",
   "execution_count": 5,
   "metadata": {},
   "outputs": [],
   "source": [
    "(x_train_full, y_train_full), (x_test, y_test) = tf.keras.datasets.cifar10.load_data()\n",
    "x_train = x_train_full[5000:]\n",
    "y_train = y_train_full[5000:]\n",
    "x_valid = x_train_full[:5000]\n",
    "y_valid = y_train_full[:5000]"
   ]
  },
  {
   "cell_type": "code",
   "execution_count": 6,
   "metadata": {},
   "outputs": [
    {
     "name": "stdout",
     "output_type": "stream",
     "text": [
      "(45000, 32, 32, 3)\n",
      "(45000, 1)\n",
      "(5000, 32, 32, 3)\n",
      "(5000, 1)\n"
     ]
    }
   ],
   "source": [
    "print(x_train.shape)\n",
    "print(y_train.shape)\n",
    "\n",
    "print(x_valid.shape)\n",
    "print(y_valid.shape)"
   ]
  },
  {
   "cell_type": "markdown",
   "metadata": {
    "id": "pFF3_y0J14_8"
   },
   "source": [
    "*__Ćwiczenie__: Stwórz sieć głęboką zawierającą 20 warstw ukrytych po 100 neuronów w każdej (jest ich za dużo, ale taki jest morał tego ćwiczenia). Skorzystaj z inicjalizacji He i funkcji aktywacji Swish. Pamiętaj jak powinna wyglądać ostatnia wartswa.*"
   ]
  },
  {
   "cell_type": "code",
   "execution_count": 7,
   "metadata": {
    "id": "HyqL3pP214_8"
   },
   "outputs": [],
   "source": [
    "\n",
    "model = tf.keras.Sequential()\n",
    "model.add(tf.keras.layers.Flatten(input_shape=[32, 32, 3]))\n",
    "for i in range(20):\n",
    "    model.add(tf.keras.layers.Dense(100, kernel_initializer=\"he_normal\", activation=\"swish\"))\n",
    "#uzupełnij kod poniżej (1pkt)\n",
    "\n",
    "model.add(tf.keras.layers.Dense(10, activation=\"softmax\"))"
   ]
  },
  {
   "cell_type": "markdown",
   "metadata": {
    "id": "RmAiLK0714_8"
   },
   "source": [
    "*__Ćwiczenie__: Wprowadź optymalizację Nadam i wczesne zatrzymywanie, współczynnik uczenia `lr=5e-5`, po czym wyucz sieć na 100 epokach. Dokonaj ewaluacji na zbiorze walidacyjnyc. __W tym ćwiczeniu skorzystaj z `validation_data`, a nie `validation_split`)__*"
   ]
  },
  {
   "cell_type": "code",
   "execution_count": 8,
   "metadata": {},
   "outputs": [
    {
     "name": "stdout",
     "output_type": "stream",
     "text": [
      "Epoch 1/100\n",
      "1407/1407 [==============================] - 8s 5ms/step - loss: 5.6556 - accuracy: 0.1645 - val_loss: 2.1180 - val_accuracy: 0.2230\n",
      "Epoch 2/100\n",
      "1407/1407 [==============================] - 7s 5ms/step - loss: 2.0449 - accuracy: 0.2444 - val_loss: 2.0189 - val_accuracy: 0.2456\n",
      "Epoch 3/100\n",
      "1407/1407 [==============================] - 7s 5ms/step - loss: 1.9461 - accuracy: 0.2836 - val_loss: 1.9108 - val_accuracy: 0.2962\n",
      "Epoch 4/100\n",
      "1407/1407 [==============================] - 7s 5ms/step - loss: 1.8720 - accuracy: 0.3142 - val_loss: 1.9739 - val_accuracy: 0.3066\n",
      "Epoch 5/100\n",
      "1407/1407 [==============================] - 7s 5ms/step - loss: 1.8169 - accuracy: 0.3372 - val_loss: 1.8544 - val_accuracy: 0.3184\n",
      "Epoch 6/100\n",
      "1407/1407 [==============================] - 7s 5ms/step - loss: 1.7713 - accuracy: 0.3582 - val_loss: 1.7570 - val_accuracy: 0.3646\n",
      "Epoch 7/100\n",
      "1407/1407 [==============================] - 7s 5ms/step - loss: 1.7327 - accuracy: 0.3752 - val_loss: 1.7391 - val_accuracy: 0.3676\n",
      "Epoch 8/100\n",
      "1407/1407 [==============================] - 7s 5ms/step - loss: 1.7004 - accuracy: 0.3870 - val_loss: 1.6999 - val_accuracy: 0.3892\n",
      "Epoch 9/100\n",
      "1407/1407 [==============================] - 8s 6ms/step - loss: 1.6726 - accuracy: 0.3964 - val_loss: 1.6569 - val_accuracy: 0.3994\n",
      "Epoch 10/100\n",
      "1407/1407 [==============================] - 8s 6ms/step - loss: 1.6509 - accuracy: 0.4099 - val_loss: 1.6782 - val_accuracy: 0.4016\n",
      "Epoch 11/100\n",
      "1407/1407 [==============================] - 8s 6ms/step - loss: 1.6279 - accuracy: 0.4176 - val_loss: 1.7230 - val_accuracy: 0.3752\n",
      "Epoch 12/100\n",
      "1407/1407 [==============================] - 8s 6ms/step - loss: 1.6081 - accuracy: 0.4238 - val_loss: 1.6723 - val_accuracy: 0.3946\n",
      "Epoch 13/100\n",
      "1407/1407 [==============================] - 8s 6ms/step - loss: 1.5906 - accuracy: 0.4269 - val_loss: 1.6559 - val_accuracy: 0.4000\n",
      "Epoch 14/100\n",
      "1407/1407 [==============================] - 8s 6ms/step - loss: 1.5736 - accuracy: 0.4361 - val_loss: 1.6327 - val_accuracy: 0.4076\n",
      "Epoch 15/100\n",
      "1407/1407 [==============================] - 8s 6ms/step - loss: 1.5592 - accuracy: 0.4387 - val_loss: 1.6116 - val_accuracy: 0.4240\n",
      "Epoch 16/100\n",
      "1407/1407 [==============================] - 8s 6ms/step - loss: 1.5421 - accuracy: 0.4468 - val_loss: 1.6066 - val_accuracy: 0.4264\n",
      "Epoch 17/100\n",
      "1407/1407 [==============================] - 8s 6ms/step - loss: 1.5344 - accuracy: 0.4515 - val_loss: 1.5946 - val_accuracy: 0.4326\n",
      "Epoch 18/100\n",
      "1407/1407 [==============================] - 9s 6ms/step - loss: 1.5158 - accuracy: 0.4580 - val_loss: 1.5940 - val_accuracy: 0.4268\n",
      "Epoch 19/100\n",
      "1407/1407 [==============================] - 9s 7ms/step - loss: 1.5058 - accuracy: 0.4611 - val_loss: 1.5822 - val_accuracy: 0.4278\n",
      "Epoch 20/100\n",
      "1407/1407 [==============================] - 10s 7ms/step - loss: 1.4954 - accuracy: 0.4625 - val_loss: 1.6115 - val_accuracy: 0.4226\n",
      "Epoch 21/100\n",
      "1407/1407 [==============================] - 10s 7ms/step - loss: 1.4867 - accuracy: 0.4652 - val_loss: 1.6167 - val_accuracy: 0.4290\n",
      "Epoch 22/100\n",
      "1407/1407 [==============================] - 10s 7ms/step - loss: 1.4744 - accuracy: 0.4723 - val_loss: 1.5657 - val_accuracy: 0.4460\n",
      "Epoch 23/100\n",
      "1407/1407 [==============================] - 10s 7ms/step - loss: 1.4647 - accuracy: 0.4735 - val_loss: 1.5659 - val_accuracy: 0.4440\n",
      "Epoch 24/100\n",
      "1407/1407 [==============================] - 10s 7ms/step - loss: 1.4535 - accuracy: 0.4789 - val_loss: 1.5902 - val_accuracy: 0.4264\n",
      "Epoch 25/100\n",
      "1407/1407 [==============================] - 10s 7ms/step - loss: 1.4416 - accuracy: 0.4824 - val_loss: 1.5697 - val_accuracy: 0.4452\n",
      "Epoch 26/100\n",
      "1407/1407 [==============================] - 10s 7ms/step - loss: 1.4336 - accuracy: 0.4868 - val_loss: 1.5925 - val_accuracy: 0.4286\n",
      "Epoch 27/100\n",
      "1407/1407 [==============================] - 10s 7ms/step - loss: 1.4230 - accuracy: 0.4890 - val_loss: 1.5462 - val_accuracy: 0.4536\n",
      "Epoch 28/100\n",
      "1407/1407 [==============================] - 10s 7ms/step - loss: 1.4160 - accuracy: 0.4897 - val_loss: 1.5638 - val_accuracy: 0.4390\n",
      "Epoch 29/100\n",
      "1407/1407 [==============================] - 10s 7ms/step - loss: 1.4094 - accuracy: 0.4928 - val_loss: 1.5324 - val_accuracy: 0.4606\n",
      "Epoch 30/100\n",
      "1407/1407 [==============================] - 10s 7ms/step - loss: 1.3961 - accuracy: 0.5000 - val_loss: 1.6020 - val_accuracy: 0.4346\n",
      "Epoch 31/100\n",
      "1407/1407 [==============================] - 10s 7ms/step - loss: 1.3890 - accuracy: 0.5030 - val_loss: 1.5673 - val_accuracy: 0.4504\n",
      "Epoch 32/100\n",
      "1407/1407 [==============================] - 10s 7ms/step - loss: 1.3791 - accuracy: 0.5040 - val_loss: 1.5564 - val_accuracy: 0.4564\n",
      "Epoch 33/100\n",
      "1407/1407 [==============================] - 10s 7ms/step - loss: 1.3765 - accuracy: 0.5070 - val_loss: 1.5616 - val_accuracy: 0.4472\n",
      "Epoch 34/100\n",
      "1407/1407 [==============================] - 10s 7ms/step - loss: 1.3706 - accuracy: 0.5074 - val_loss: 1.5866 - val_accuracy: 0.4464\n",
      "Epoch 35/100\n",
      "1407/1407 [==============================] - 11s 8ms/step - loss: 1.3592 - accuracy: 0.5119 - val_loss: 1.5476 - val_accuracy: 0.4618\n",
      "Epoch 36/100\n",
      "1407/1407 [==============================] - 11s 8ms/step - loss: 1.3556 - accuracy: 0.5158 - val_loss: 1.5401 - val_accuracy: 0.4580\n",
      "Epoch 37/100\n",
      "1407/1407 [==============================] - 11s 7ms/step - loss: 1.3438 - accuracy: 0.5182 - val_loss: 1.5451 - val_accuracy: 0.4630\n",
      "Epoch 38/100\n",
      "1407/1407 [==============================] - 10s 7ms/step - loss: 1.3378 - accuracy: 0.5208 - val_loss: 1.5474 - val_accuracy: 0.4594\n",
      "Epoch 39/100\n",
      "1407/1407 [==============================] - 10s 7ms/step - loss: 1.3312 - accuracy: 0.5235 - val_loss: 1.5627 - val_accuracy: 0.4538\n",
      "Epoch 40/100\n",
      "1407/1407 [==============================] - 10s 7ms/step - loss: 1.3227 - accuracy: 0.5264 - val_loss: 1.5894 - val_accuracy: 0.4482\n",
      "Epoch 41/100\n",
      "1407/1407 [==============================] - 9s 7ms/step - loss: 1.3177 - accuracy: 0.5279 - val_loss: 1.5858 - val_accuracy: 0.4546\n",
      "Epoch 42/100\n",
      "1407/1407 [==============================] - 9s 7ms/step - loss: 1.3099 - accuracy: 0.5297 - val_loss: 1.5511 - val_accuracy: 0.4570\n",
      "Epoch 43/100\n",
      "1407/1407 [==============================] - 10s 7ms/step - loss: 1.3057 - accuracy: 0.5329 - val_loss: 1.5890 - val_accuracy: 0.4506\n",
      "Epoch 44/100\n",
      "1407/1407 [==============================] - 9s 7ms/step - loss: 1.3006 - accuracy: 0.5329 - val_loss: 1.5577 - val_accuracy: 0.4566\n",
      "Epoch 45/100\n",
      "1407/1407 [==============================] - 9s 7ms/step - loss: 1.2913 - accuracy: 0.5387 - val_loss: 1.5523 - val_accuracy: 0.4634\n",
      "Epoch 46/100\n",
      "1407/1407 [==============================] - 9s 7ms/step - loss: 1.2861 - accuracy: 0.5373 - val_loss: 1.5531 - val_accuracy: 0.4616\n",
      "Epoch 47/100\n",
      "1407/1407 [==============================] - 9s 7ms/step - loss: 1.2795 - accuracy: 0.5401 - val_loss: 1.5863 - val_accuracy: 0.4510\n",
      "Epoch 48/100\n",
      "1407/1407 [==============================] - 9s 7ms/step - loss: 1.2708 - accuracy: 0.5435 - val_loss: 1.5567 - val_accuracy: 0.4664\n",
      "Epoch 49/100\n",
      "1407/1407 [==============================] - 9s 7ms/step - loss: 1.2637 - accuracy: 0.5459 - val_loss: 1.5740 - val_accuracy: 0.4570\n"
     ]
    }
   ],
   "source": [
    "#wpisz kod poniżej (1pkt)\n",
    "early_stopping_cb = tf.keras.callbacks.EarlyStopping(patience=20,restore_best_weights=True)\n",
    "\n",
    "model.compile(loss=\"sparse_categorical_crossentropy\",\n",
    "              optimizer=tf.keras.optimizers.legacy.Nadam(learning_rate=5e-5),\n",
    "              metrics=[\"accuracy\"])\n",
    "\n",
    "history = model.fit(x_train,y_train, epochs=100,\n",
    "                    validation_data=(x_valid,y_valid), callbacks=early_stopping_cb)"
   ]
  },
  {
   "cell_type": "markdown",
   "metadata": {},
   "source": [
    "*__Ćwiczenie__:Narysuj krzywe uczenia*"
   ]
  },
  {
   "cell_type": "code",
   "execution_count": 9,
   "metadata": {},
   "outputs": [
    {
     "data": {
      "image/png": "[encoded data removed]",
      "text/plain": [
       "<Figure size 640x480 with 1 Axes>"
      ]
     },
     "metadata": {},
     "output_type": "display_data"
    }
   ],
   "source": [
    "#wpisz kod poniżej (1pkt)\n",
    "acc = history.history['accuracy']\n",
    "val_acc = history.history['val_accuracy']\n",
    "\n",
    "loss = history.history['loss']\n",
    "val_loss = history.history['val_loss']\n",
    "\n",
    "epochs = range(1, len(acc) + 1)\n",
    "\n",
    "plt.plot(epochs,loss, 'b-', label=\"Strata trenowania\")\n",
    "\n",
    "plt.plot(epochs, val_loss, 'r--', label=\"Strata walidacyjna\")\n",
    "plt.title(\"Krzywa uczenia\")\n",
    "plt.xlabel(\"Epoka\")\n",
    "plt.ylabel(\"Strata\")\n",
    "plt.legend()\n",
    "\n",
    "plt.show()"
   ]
  },
  {
   "cell_type": "markdown",
   "metadata": {
    "id": "9QSN-Yib14_9"
   },
   "source": [
    "*__Cwiczenie__: Uzupełnij tekst (1pkt):* \n",
    "\n",
    "Model o najmniejszej stracie walidacyjnej uzyskuje ok. 46,3% dokładności na zbiorze walidacyjnym. Do osiągnięcia tej straty wymaganych było 29 epok, z których każda trwała ok. 10 sekund na moim laptopie (bez karty graficznej). Sprawdźmy, czy usprawnimy ten model za pomocą normalizacji wsadowej."
   ]
  },
  {
   "cell_type": "markdown",
   "metadata": {
    "id": "hqEJCO-O14_9"
   },
   "source": [
    "*__Ćwiczenie__: Spróbuj teraz dodać normalizację wsadową i porównać współczynniki uczenia. Czy model uzyskuje teraz szybciej zbieżność? Czy otrzymany model jest lepszy? Co się dzieje z szybkością uczenia?*"
   ]
  },
  {
   "cell_type": "markdown",
   "metadata": {
    "id": "Fe-3u-iZ14_9"
   },
   "source": [
    "Kod bardzo przypomina powyższy listing, za wyjątkiem kilku zmian:\n",
    "\n",
    "* dodaj warstwę BN do każdej warstwy gęstej (przed funkcją aktywacji), za wyjątkiem warstwy wyjściowej.\n",
    "* Zmień wartość współczynnika uczenia na 5e-4."
   ]
  },
  {
   "cell_type": "code",
   "execution_count": 10,
   "metadata": {},
   "outputs": [],
   "source": [
    "#wpisz kod poniżej: (1pkt)\n",
    "model = tf.keras.Sequential()\n",
    "model.add(tf.keras.layers.Flatten(input_shape=[32, 32, 3]))\n",
    "for i in range(20):\n",
    "    model.add(tf.keras.layers.Dense(100, kernel_initializer=\"he_normal\", use_bias=False))\n",
    "    model.add(tf.keras.layers.BatchNormalization())\n",
    "    model.add(tf.keras.layers.Activation(\"swish\"))\n",
    "\n",
    "model.add(tf.keras.layers.Dense(10, activation=\"softmax\"))\n"
   ]
  },
  {
   "cell_type": "code",
   "execution_count": 11,
   "metadata": {},
   "outputs": [
    {
     "name": "stdout",
     "output_type": "stream",
     "text": [
      "Epoch 1/100\n",
      "1407/1407 [==============================] - 15s 8ms/step - loss: 2.0515 - accuracy: 0.2467 - val_loss: 2.3046 - val_accuracy: 0.2566\n",
      "Epoch 2/100\n",
      "1407/1407 [==============================] - 12s 8ms/step - loss: 1.7915 - accuracy: 0.3503 - val_loss: 1.9373 - val_accuracy: 0.2996\n",
      "Epoch 3/100\n",
      "1407/1407 [==============================] - 11s 8ms/step - loss: 1.6864 - accuracy: 0.3962 - val_loss: 1.8485 - val_accuracy: 0.3272\n",
      "Epoch 4/100\n",
      "1407/1407 [==============================] - 11s 8ms/step - loss: 1.6159 - accuracy: 0.4217 - val_loss: 1.8441 - val_accuracy: 0.3422\n",
      "Epoch 5/100\n",
      "1407/1407 [==============================] - 11s 8ms/step - loss: 1.5573 - accuracy: 0.4455 - val_loss: 1.6362 - val_accuracy: 0.4336\n",
      "Epoch 6/100\n",
      "1407/1407 [==============================] - 11s 8ms/step - loss: 1.5062 - accuracy: 0.4618 - val_loss: 1.6178 - val_accuracy: 0.4156\n",
      "Epoch 7/100\n",
      "1407/1407 [==============================] - 11s 8ms/step - loss: 1.4626 - accuracy: 0.4774 - val_loss: 1.6126 - val_accuracy: 0.4320\n",
      "Epoch 8/100\n",
      "1407/1407 [==============================] - 11s 8ms/step - loss: 1.4230 - accuracy: 0.4926 - val_loss: 1.5260 - val_accuracy: 0.4564\n",
      "Epoch 9/100\n",
      "1407/1407 [==============================] - 12s 8ms/step - loss: 1.3909 - accuracy: 0.5085 - val_loss: 1.5731 - val_accuracy: 0.4492\n",
      "Epoch 10/100\n",
      "1407/1407 [==============================] - 12s 8ms/step - loss: 1.3598 - accuracy: 0.5158 - val_loss: 1.4877 - val_accuracy: 0.4596\n",
      "Epoch 11/100\n",
      "1407/1407 [==============================] - 12s 8ms/step - loss: 1.3311 - accuracy: 0.5284 - val_loss: 1.6308 - val_accuracy: 0.4486\n",
      "Epoch 12/100\n",
      "1407/1407 [==============================] - 12s 8ms/step - loss: 1.3026 - accuracy: 0.5411 - val_loss: 1.4997 - val_accuracy: 0.4652\n",
      "Epoch 13/100\n",
      "1407/1407 [==============================] - 11s 8ms/step - loss: 1.2766 - accuracy: 0.5478 - val_loss: 1.5813 - val_accuracy: 0.4382\n",
      "Epoch 14/100\n",
      "1407/1407 [==============================] - 11s 8ms/step - loss: 1.2565 - accuracy: 0.5549 - val_loss: 1.4437 - val_accuracy: 0.4898\n",
      "Epoch 15/100\n",
      "1407/1407 [==============================] - 11s 8ms/step - loss: 1.2288 - accuracy: 0.5630 - val_loss: 1.6462 - val_accuracy: 0.4490\n",
      "Epoch 16/100\n",
      "1407/1407 [==============================] - 11s 8ms/step - loss: 1.2193 - accuracy: 0.5698 - val_loss: 1.5123 - val_accuracy: 0.4610\n",
      "Epoch 17/100\n",
      "1407/1407 [==============================] - 11s 8ms/step - loss: 1.1968 - accuracy: 0.5754 - val_loss: 1.4975 - val_accuracy: 0.4734\n",
      "Epoch 18/100\n",
      "1407/1407 [==============================] - 11s 8ms/step - loss: 1.1734 - accuracy: 0.5853 - val_loss: 1.5569 - val_accuracy: 0.4620\n",
      "Epoch 19/100\n",
      "1407/1407 [==============================] - 11s 8ms/step - loss: 1.1609 - accuracy: 0.5905 - val_loss: 1.5376 - val_accuracy: 0.4810\n",
      "Epoch 20/100\n",
      "1407/1407 [==============================] - 11s 8ms/step - loss: 1.1412 - accuracy: 0.5954 - val_loss: 1.5451 - val_accuracy: 0.4766\n",
      "Epoch 21/100\n",
      "1407/1407 [==============================] - 11s 8ms/step - loss: 1.1268 - accuracy: 0.6016 - val_loss: 1.5606 - val_accuracy: 0.4674\n",
      "Epoch 22/100\n",
      "1407/1407 [==============================] - 11s 8ms/step - loss: 1.1081 - accuracy: 0.6078 - val_loss: 1.6059 - val_accuracy: 0.4574\n",
      "Epoch 23/100\n",
      "1407/1407 [==============================] - 11s 8ms/step - loss: 1.0933 - accuracy: 0.6137 - val_loss: 1.5179 - val_accuracy: 0.4910\n",
      "Epoch 24/100\n",
      "1407/1407 [==============================] - 11s 8ms/step - loss: 1.0813 - accuracy: 0.6188 - val_loss: 1.4158 - val_accuracy: 0.5106\n",
      "Epoch 25/100\n",
      "1407/1407 [==============================] - 11s 8ms/step - loss: 1.0647 - accuracy: 0.6253 - val_loss: 1.7135 - val_accuracy: 0.4556\n",
      "Epoch 26/100\n",
      "1407/1407 [==============================] - 11s 8ms/step - loss: 1.0491 - accuracy: 0.6296 - val_loss: 1.4954 - val_accuracy: 0.4952\n",
      "Epoch 27/100\n",
      "1407/1407 [==============================] - 11s 8ms/step - loss: 1.0379 - accuracy: 0.6334 - val_loss: 1.6145 - val_accuracy: 0.4570\n",
      "Epoch 28/100\n",
      "1407/1407 [==============================] - 11s 8ms/step - loss: 1.0275 - accuracy: 0.6386 - val_loss: 1.5767 - val_accuracy: 0.4826\n",
      "Epoch 29/100\n",
      "1407/1407 [==============================] - 11s 8ms/step - loss: 1.0172 - accuracy: 0.6394 - val_loss: 1.4820 - val_accuracy: 0.4988\n",
      "Epoch 30/100\n",
      "1407/1407 [==============================] - 11s 8ms/step - loss: 1.0018 - accuracy: 0.6439 - val_loss: 1.5795 - val_accuracy: 0.4826\n",
      "Epoch 31/100\n",
      "1407/1407 [==============================] - 11s 8ms/step - loss: 0.9896 - accuracy: 0.6515 - val_loss: 1.4940 - val_accuracy: 0.5088\n",
      "Epoch 32/100\n",
      "1407/1407 [==============================] - 11s 8ms/step - loss: 0.9769 - accuracy: 0.6518 - val_loss: 1.7234 - val_accuracy: 0.4388\n",
      "Epoch 33/100\n",
      "1407/1407 [==============================] - 11s 8ms/step - loss: 0.9679 - accuracy: 0.6580 - val_loss: 1.5112 - val_accuracy: 0.5012\n",
      "Epoch 34/100\n",
      "1407/1407 [==============================] - 11s 8ms/step - loss: 0.9602 - accuracy: 0.6582 - val_loss: 1.6515 - val_accuracy: 0.4636\n",
      "Epoch 35/100\n",
      "1407/1407 [==============================] - 11s 8ms/step - loss: 0.9469 - accuracy: 0.6657 - val_loss: 1.5088 - val_accuracy: 0.4932\n",
      "Epoch 36/100\n",
      "1407/1407 [==============================] - 11s 8ms/step - loss: 0.9377 - accuracy: 0.6669 - val_loss: 1.5865 - val_accuracy: 0.5012\n",
      "Epoch 37/100\n",
      "1407/1407 [==============================] - 11s 8ms/step - loss: 0.9210 - accuracy: 0.6737 - val_loss: 1.5695 - val_accuracy: 0.4854\n",
      "Epoch 38/100\n",
      "1407/1407 [==============================] - 11s 8ms/step - loss: 0.9187 - accuracy: 0.6738 - val_loss: 1.5095 - val_accuracy: 0.4990\n",
      "Epoch 39/100\n",
      "1407/1407 [==============================] - 11s 8ms/step - loss: 0.9116 - accuracy: 0.6789 - val_loss: 1.6259 - val_accuracy: 0.4940\n",
      "Epoch 40/100\n",
      "1407/1407 [==============================] - 11s 8ms/step - loss: 0.8929 - accuracy: 0.6822 - val_loss: 1.5526 - val_accuracy: 0.5012\n",
      "Epoch 41/100\n",
      "1407/1407 [==============================] - 11s 8ms/step - loss: 0.8917 - accuracy: 0.6843 - val_loss: 1.5473 - val_accuracy: 0.4990\n",
      "Epoch 42/100\n",
      "1407/1407 [==============================] - 11s 8ms/step - loss: 0.8798 - accuracy: 0.6879 - val_loss: 1.6413 - val_accuracy: 0.4804\n",
      "Epoch 43/100\n",
      "1407/1407 [==============================] - 11s 8ms/step - loss: 0.8774 - accuracy: 0.6884 - val_loss: 1.7222 - val_accuracy: 0.4558\n",
      "Epoch 44/100\n",
      "1407/1407 [==============================] - 11s 8ms/step - loss: 0.8649 - accuracy: 0.6945 - val_loss: 1.5844 - val_accuracy: 0.4940\n"
     ]
    }
   ],
   "source": [
    "model.compile(loss=\"sparse_categorical_crossentropy\",\n",
    "              optimizer=tf.keras.optimizers.legacy.Nadam(learning_rate=5e-4),\n",
    "              metrics=[\"accuracy\"])\n",
    "\n",
    "history = model.fit(x_train,y_train, epochs=100,\n",
    "                    validation_data=(x_valid,y_valid), callbacks=early_stopping_cb)"
   ]
  },
  {
   "cell_type": "code",
   "execution_count": 12,
   "metadata": {},
   "outputs": [
    {
     "data": {
      "image/png": "[encoded data removed]",
      "text/plain": [
       "<Figure size 640x480 with 1 Axes>"
      ]
     },
     "metadata": {},
     "output_type": "display_data"
    }
   ],
   "source": [
    "#wpisz kod poniżej (1pkt)\n",
    "acc = history.history['accuracy']\n",
    "val_acc = history.history['val_accuracy']\n",
    "\n",
    "loss = history.history['loss']\n",
    "val_loss = history.history['val_loss']\n",
    "\n",
    "epochs = range(1, len(acc) + 1)\n",
    "\n",
    "plt.plot(epochs,loss, 'b-', label=\"Strata trenowania\")\n",
    "\n",
    "plt.plot(epochs, val_loss, 'r--', label=\"Strata walidacyjna\")\n",
    "plt.title(\"Krzywa uczenia\")\n",
    "plt.xlabel(\"Epoka\")\n",
    "plt.ylabel(\"Strata\")\n",
    "plt.legend()\n",
    "\n",
    "plt.show()"
   ]
  },
  {
   "cell_type": "markdown",
   "metadata": {
    "id": "f9ERk65l14_-"
   },
   "source": [
    "*__Ćwiczenie__: Odpowiedz na pytania (po 1 punkt na pdpowiedź):*\n",
    "\n",
    "* *Czy model uzyskuje teraz szybciej zbieżność?* "
   ]
  },
  {
   "cell_type": "markdown",
   "metadata": {},
   "source": [
    "Model uzyskuje zbieznosc do wiekszej liczbie epok"
   ]
  },
  {
   "cell_type": "markdown",
   "metadata": {
    "id": "f9ERk65l14_-"
   },
   "source": [
    "* *Czy otrzymany model jest lepszy?* "
   ]
  },
  {
   "cell_type": "markdown",
   "metadata": {},
   "source": [
    "Otrzymany model uzyskuje lepsza dokladnosc oraz nizsza strate. Co oznacza ze model jest lepszy chociaz roznica nie jest ogromna."
   ]
  },
  {
   "cell_type": "markdown",
   "metadata": {
    "id": "f9ERk65l14_-"
   },
   "source": [
    "* *Co się dzieje z szybkością uczenia?* "
   ]
  },
  {
   "cell_type": "markdown",
   "metadata": {},
   "source": [
    "Kazda epoka trwa kilka sekund dluzej."
   ]
  },
  {
   "cell_type": "markdown",
   "metadata": {
    "id": "wb9tdYC314_-"
   },
   "source": [
    "*__Ćwiczenie__: Zastąp teraz normalizację wsadową funkcją SELU i wprowadź wszelkie modyfikacje wymagane to spełnienia wymogu samonormalizacji sieci (tj. standaryzuj cechy wejściowe, skorzystaj z klasycznej inicjalizacji LeCuna.*"
   ]
  },
  {
   "cell_type": "code",
   "execution_count": 13,
   "metadata": {
    "id": "cybakeZp14_-",
    "scrolled": true
   },
   "outputs": [],
   "source": [
    "#wpisz kod poniżej: (1pkt)\n",
    "model = tf.keras.Sequential()\n",
    "model.add(tf.keras.layers.Flatten(input_shape=[32, 32, 3]))\n",
    "for i in range(20):\n",
    "    model.add(tf.keras.layers.Dense(100, activation=\"selu\", kernel_initializer=\"lecun_normal\"))\n",
    "    \n",
    "\n",
    "model.add(tf.keras.layers.Dense(10, activation=\"softmax\"))\n"
   ]
  },
  {
   "cell_type": "code",
   "execution_count": 14,
   "metadata": {},
   "outputs": [
    {
     "name": "stdout",
     "output_type": "stream",
     "text": [
      "Epoch 1/100\n",
      "1407/1407 [==============================] - 10s 6ms/step - loss: 1.8948 - accuracy: 0.3221 - val_loss: 1.7322 - val_accuracy: 0.3882\n",
      "Epoch 2/100\n",
      "1407/1407 [==============================] - 8s 6ms/step - loss: 1.6816 - accuracy: 0.4056 - val_loss: 1.7781 - val_accuracy: 0.3800\n",
      "Epoch 3/100\n",
      "1407/1407 [==============================] - 8s 6ms/step - loss: 1.5799 - accuracy: 0.4444 - val_loss: 1.6104 - val_accuracy: 0.4298\n",
      "Epoch 4/100\n",
      "1407/1407 [==============================] - 8s 6ms/step - loss: 1.5119 - accuracy: 0.4656 - val_loss: 1.5959 - val_accuracy: 0.4418\n",
      "Epoch 5/100\n",
      "1407/1407 [==============================] - 9s 6ms/step - loss: 1.4502 - accuracy: 0.4930 - val_loss: 1.5566 - val_accuracy: 0.4532\n",
      "Epoch 6/100\n",
      "1407/1407 [==============================] - 9s 6ms/step - loss: 1.3994 - accuracy: 0.5118 - val_loss: 1.5166 - val_accuracy: 0.4634\n",
      "Epoch 7/100\n",
      "1407/1407 [==============================] - 9s 6ms/step - loss: 1.3566 - accuracy: 0.5280 - val_loss: 1.5040 - val_accuracy: 0.4840\n",
      "Epoch 8/100\n",
      "1407/1407 [==============================] - 9s 6ms/step - loss: 1.3108 - accuracy: 0.5416 - val_loss: 1.4836 - val_accuracy: 0.4984\n",
      "Epoch 9/100\n",
      "1407/1407 [==============================] - 9s 6ms/step - loss: 1.2742 - accuracy: 0.5580 - val_loss: 1.4774 - val_accuracy: 0.4714\n",
      "Epoch 10/100\n",
      "1407/1407 [==============================] - 8s 6ms/step - loss: 1.2343 - accuracy: 0.5729 - val_loss: 1.5023 - val_accuracy: 0.4896\n",
      "Epoch 11/100\n",
      "1407/1407 [==============================] - 8s 6ms/step - loss: 1.2032 - accuracy: 0.5832 - val_loss: 1.4836 - val_accuracy: 0.4930\n",
      "Epoch 12/100\n",
      "1407/1407 [==============================] - 9s 6ms/step - loss: 1.1736 - accuracy: 0.5957 - val_loss: 1.4720 - val_accuracy: 0.5052\n",
      "Epoch 13/100\n",
      "1407/1407 [==============================] - 9s 6ms/step - loss: 1.1454 - accuracy: 0.6066 - val_loss: 1.4810 - val_accuracy: 0.5086\n",
      "Epoch 14/100\n",
      "1407/1407 [==============================] - 8s 6ms/step - loss: 1.1171 - accuracy: 0.6150 - val_loss: 1.4703 - val_accuracy: 0.5026\n",
      "Epoch 15/100\n",
      "1407/1407 [==============================] - 8s 6ms/step - loss: 1.0888 - accuracy: 0.6256 - val_loss: 1.5002 - val_accuracy: 0.5052\n",
      "Epoch 16/100\n",
      "1407/1407 [==============================] - 8s 6ms/step - loss: 1.0648 - accuracy: 0.6346 - val_loss: 1.5156 - val_accuracy: 0.5080\n",
      "Epoch 17/100\n",
      "1407/1407 [==============================] - 8s 6ms/step - loss: 1.0360 - accuracy: 0.6451 - val_loss: 1.5041 - val_accuracy: 0.5070\n",
      "Epoch 18/100\n",
      "1407/1407 [==============================] - 8s 6ms/step - loss: 1.0156 - accuracy: 0.6538 - val_loss: 1.5609 - val_accuracy: 0.5014\n",
      "Epoch 19/100\n",
      "1407/1407 [==============================] - 8s 6ms/step - loss: 0.9936 - accuracy: 0.6616 - val_loss: 1.5887 - val_accuracy: 0.5174\n",
      "Epoch 20/100\n",
      "1407/1407 [==============================] - 8s 6ms/step - loss: 0.9726 - accuracy: 0.6668 - val_loss: 1.5429 - val_accuracy: 0.5030\n",
      "Epoch 21/100\n",
      "1407/1407 [==============================] - 8s 6ms/step - loss: 0.9526 - accuracy: 0.6780 - val_loss: 1.5817 - val_accuracy: 0.5000\n",
      "Epoch 22/100\n",
      "1407/1407 [==============================] - 8s 6ms/step - loss: 0.9303 - accuracy: 0.6848 - val_loss: 1.5839 - val_accuracy: 0.5102\n",
      "Epoch 23/100\n",
      "1407/1407 [==============================] - 9s 6ms/step - loss: 0.9156 - accuracy: 0.6909 - val_loss: 1.5855 - val_accuracy: 0.5000\n",
      "Epoch 24/100\n",
      "1407/1407 [==============================] - 9s 6ms/step - loss: 0.8916 - accuracy: 0.6993 - val_loss: 1.5962 - val_accuracy: 0.5148\n",
      "Epoch 25/100\n",
      "1407/1407 [==============================] - 9s 6ms/step - loss: 0.8804 - accuracy: 0.7025 - val_loss: 1.5937 - val_accuracy: 0.5072\n",
      "Epoch 26/100\n",
      "1407/1407 [==============================] - 9s 7ms/step - loss: 0.8659 - accuracy: 0.7089 - val_loss: 1.6584 - val_accuracy: 0.5076\n",
      "Epoch 27/100\n",
      "1407/1407 [==============================] - 9s 6ms/step - loss: 0.8434 - accuracy: 0.7160 - val_loss: 1.7145 - val_accuracy: 0.4986\n",
      "Epoch 28/100\n",
      "1407/1407 [==============================] - 9s 6ms/step - loss: 0.8314 - accuracy: 0.7237 - val_loss: 1.6384 - val_accuracy: 0.5040\n",
      "Epoch 29/100\n",
      "1407/1407 [==============================] - 9s 6ms/step - loss: 0.8190 - accuracy: 0.7282 - val_loss: 1.7683 - val_accuracy: 0.4970\n",
      "Epoch 30/100\n",
      "1407/1407 [==============================] - 9s 6ms/step - loss: 0.7991 - accuracy: 0.7320 - val_loss: 1.6735 - val_accuracy: 0.5084\n",
      "Epoch 31/100\n",
      "1407/1407 [==============================] - 9s 6ms/step - loss: 0.7906 - accuracy: 0.7376 - val_loss: 1.7245 - val_accuracy: 0.5064\n",
      "Epoch 32/100\n",
      "1407/1407 [==============================] - 9s 6ms/step - loss: 0.7708 - accuracy: 0.7443 - val_loss: 1.7185 - val_accuracy: 0.5112\n",
      "Epoch 33/100\n",
      "1407/1407 [==============================] - 9s 6ms/step - loss: 0.7582 - accuracy: 0.7463 - val_loss: 1.7138 - val_accuracy: 0.5092\n",
      "Epoch 34/100\n",
      "1407/1407 [==============================] - 9s 6ms/step - loss: 0.7491 - accuracy: 0.7513 - val_loss: 1.7130 - val_accuracy: 0.5144\n"
     ]
    }
   ],
   "source": [
    "mean = x_train.mean(axis=0,keepdims=True)\n",
    "std = x_train.std(axis=0,keepdims=True)\n",
    "\n",
    "x_train_scaled = (x_train - mean) / std\n",
    "x_valid_scaled = (x_valid - mean) / std\n",
    "\n",
    "model.compile(loss=\"sparse_categorical_crossentropy\",\n",
    "              optimizer=tf.keras.optimizers.legacy.Nadam(learning_rate=5e-4),\n",
    "              metrics=[\"accuracy\"])\n",
    "\n",
    "history = model.fit(x_train_scaled,y_train, epochs=100,\n",
    "                    validation_data=(x_valid_scaled,y_valid), callbacks=early_stopping_cb)"
   ]
  },
  {
   "cell_type": "code",
   "execution_count": 15,
   "metadata": {},
   "outputs": [
    {
     "data": {
      "image/png": "[encoded data removed]",
      "text/plain": [
       "<Figure size 640x480 with 1 Axes>"
      ]
     },
     "metadata": {},
     "output_type": "display_data"
    }
   ],
   "source": [
    "#wpisz kod poniżej (1pkt)\n",
    "acc = history.history['accuracy']\n",
    "val_acc = history.history['val_accuracy']\n",
    "\n",
    "loss = history.history['loss']\n",
    "val_loss = history.history['val_loss']\n",
    "\n",
    "epochs = range(1, len(acc) + 1)\n",
    "\n",
    "plt.plot(epochs,loss, 'b-', label=\"Strata trenowania\")\n",
    "\n",
    "plt.plot(epochs, val_loss, 'r--', label=\"Strata walidacyjna\")\n",
    "plt.title(\"Krzywa uczenia\")\n",
    "plt.xlabel(\"Epoka\")\n",
    "plt.ylabel(\"Strata\")\n",
    "plt.legend()\n",
    "\n",
    "plt.show()"
   ]
  },
  {
   "cell_type": "code",
   "execution_count": null,
   "metadata": {},
   "outputs": [],
   "source": []
  },
  {
   "cell_type": "markdown",
   "metadata": {
    "id": "k-5v5dGj14_-"
   },
   "source": [
    "*__Ćwiczenie__: Uzupełnij tekst (1pkt)*:\n",
    "\n",
    "Model ten uzyskał stratę walidacyjną na poziomie pierwszego modelu w zaledwie 6 epok. Po 9 epokach uzyskał najmniejszą stratę walidacyjną, przekładającą się na mniej więcej 49,8% dokładności, co jest wynikiem lepszym od pierwotnego modelu (46,7%), ale nieco gorszym od modelu wykorzystującego normalizację wsadową (50,7%). Każda epoka trwała zaledwie 8 sekund. Jest to więc jak do tej pory najszybciej wytrenowany model."
   ]
  },
  {
   "cell_type": "code",
   "execution_count": null,
   "metadata": {},
   "outputs": [],
   "source": []
  }
 ],
 "metadata": {
  "colab": {
   "provenance": []
  },
  "kernelspec": {
   "display_name": "Python 3 (ipykernel)",
   "language": "python",
   "name": "python3"
  },
  "language_info": {
   "codemirror_mode": {
    "name": "ipython",
    "version": 3
   },
   "file_extension": ".py",
   "mimetype": "text/x-python",
   "name": "python",
   "nbconvert_exporter": "python",
   "pygments_lexer": "ipython3",
   "version": "3.11.5"
  },
  "nav_menu": {
   "height": "360px",
   "width": "416px"
  },
  "toc": {
   "navigate_menu": true,
   "number_sections": true,
   "sideBar": true,
   "threshold": 6,
   "toc_cell": false,
   "toc_section_display": "block",
   "toc_window_display": false
  }
 },
 "nbformat": 4,
 "nbformat_minor": 4
}
