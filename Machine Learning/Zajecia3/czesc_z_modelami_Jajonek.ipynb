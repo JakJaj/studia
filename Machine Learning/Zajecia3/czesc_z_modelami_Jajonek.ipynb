{
  "cells": [
    {
      "cell_type": "markdown",
      "metadata": {
        "id": "BZvGEX6Bm6lv"
      },
      "source": [
        "Projekt ten do działania wymaga środowiska Python w wersji 3.7 lub nowszej:"
      ]
    },
    {
      "cell_type": "code",
      "execution_count": 10,
      "metadata": {
        "id": "hFtD4xClm6lv"
      },
      "outputs": [],
      "source": [
        "import sys\n",
        "\n",
        "assert sys.version_info >= (3, 7)"
      ]
    },
    {
      "cell_type": "markdown",
      "metadata": {
        "id": "GwXt1aQTm6lw"
      },
      "source": [
        "Wymagana jest także biblioteka Scikit-Learn ≥1.0.1:"
      ]
    },
    {
      "cell_type": "code",
      "execution_count": 11,
      "metadata": {
        "id": "SydWFxEsm6lx"
      },
      "outputs": [],
      "source": [
        "from packaging import version\n",
        "import sklearn\n",
        "\n",
        "assert version.parse(sklearn.__version__) >= version.parse(\"1.0.1\")"
      ]
    },
    {
      "cell_type": "markdown",
      "metadata": {
        "id": "0EHyTQy4m6lx"
      },
      "source": [
        "Jak również TensorFlow ≥ 2.8:"
      ]
    },
    {
      "cell_type": "code",
      "execution_count": 12,
      "metadata": {
        "id": "GLeqXu2Um6lx"
      },
      "outputs": [],
      "source": [
        "import tensorflow as tf\n",
        "\n",
        "assert version.parse(tf.__version__) >= version.parse(\"2.8.0\")"
      ]
    },
    {
      "cell_type": "markdown",
      "metadata": {
        "id": "If7PuN75m6ly"
      },
      "source": [
        "Podobnie jak wcześniej, zdefiniujmy domyślne rozmiary czcionek, aby nasze rysunki wyglądały pięknie:"
      ]
    },
    {
      "cell_type": "code",
      "execution_count": 13,
      "metadata": {
        "id": "BjE46Yakm6ly"
      },
      "outputs": [],
      "source": [
        "import matplotlib.pyplot as plt\n",
        "\n",
        "plt.rc('font', size=14)\n",
        "plt.rc('axes', labelsize=14, titlesize=14)\n",
        "plt.rc('legend', fontsize=14)\n",
        "plt.rc('xtick', labelsize=10)\n",
        "plt.rc('ytick', labelsize=10)"
      ]
    },
    {
      "cell_type": "markdown",
      "metadata": {
        "id": "5OZZhaffm6mG"
      },
      "source": [
        "# Strojenie hiperparametrów sieci neuronowej"
      ]
    },
    {
      "cell_type": "markdown",
      "metadata": {
        "id": "3PGHpnX1m6mH"
      },
      "source": [
        "W tej sekcji znów skorzystamy z zestawu danych Fashion MNIST:"
      ]
    },
    {
      "cell_type": "code",
      "execution_count": 14,
      "metadata": {
        "colab": {
          "base_uri": "https://localhost:8080/"
        },
        "id": "atSYO4eNm6mH",
        "outputId": "3104f225-f97c-48a2-df4d-f2f10a4ad3de"
      },
      "outputs": [
        {
          "name": "stdout",
          "output_type": "stream",
          "text": [
            "Downloading data from https://storage.googleapis.com/tensorflow/tf-keras-datasets/train-images-idx3-ubyte.gz\n",
            "26421880/26421880 [==============================] - 4s 0us/step\n",
            "Downloading data from https://storage.googleapis.com/tensorflow/tf-keras-datasets/t10k-labels-idx1-ubyte.gz\n",
            "5148/5148 [==============================] - 0s 0us/step\n",
            "Downloading data from https://storage.googleapis.com/tensorflow/tf-keras-datasets/t10k-images-idx3-ubyte.gz\n",
            "4422102/4422102 [==============================] - 1s 0us/step\n"
          ]
        }
      ],
      "source": [
        "fashion_mnist = tf.keras.datasets.fashion_mnist.load_data()\n",
        "(X_train_full, y_train_full), (X_test, y_test) = fashion_mnist\n",
        "X_train, y_train = X_train_full[:-5000], y_train_full[:-5000]\n",
        "X_valid, y_valid = X_train_full[-5000:], y_train_full[-5000:]"
      ]
    },
    {
      "cell_type": "code",
      "execution_count": 15,
      "metadata": {
        "id": "5Ge1Lrw7m6mH"
      },
      "outputs": [],
      "source": [
        "tf.keras.backend.clear_session()\n",
        "tf.random.set_seed(42)"
      ]
    },
    {
      "cell_type": "code",
      "execution_count": 16,
      "metadata": {
        "colab": {
          "base_uri": "https://localhost:8080/"
        },
        "id": "rM5Rz7-cm6mH",
        "outputId": "898ec4ae-853d-4285-cfe8-220eb973b8f3"
      },
      "outputs": [],
      "source": [
        "if \"google.colab\" in sys.modules:\n",
        "    %pip install -q -U keras_tuner"
      ]
    },
    {
      "cell_type": "code",
      "execution_count": 17,
      "metadata": {
        "colab": {
          "base_uri": "https://localhost:8080/"
        },
        "id": "nNQ1V1Nvm6mH",
        "outputId": "ac3c80ca-55c0-4ad0-e554-3103050e0b0f"
      },
      "outputs": [
        {
          "name": "stdout",
          "output_type": "stream",
          "text": [
            "Using TensorFlow backend\n"
          ]
        }
      ],
      "source": [
        "import keras_tuner as kt\n",
        "\n",
        "def build_model(hp):\n",
        "    n_hidden = hp.Int(\"n_hidden\", min_value=0, max_value=8, default=2)\n",
        "    n_neurons = hp.Int(\"n_neurons\", min_value=16, max_value=256)\n",
        "    learning_rate = hp.Float(\"learning_rate\", min_value=1e-4, max_value=1e-2,\n",
        "                             sampling=\"log\")\n",
        "    optimizer = hp.Choice(\"optimizer\", values=[\"sgd\", \"adam\"])\n",
        "    if optimizer == \"sgd\":\n",
        "        optimizer = tf.keras.optimizers.SGD(learning_rate=learning_rate)\n",
        "    else:\n",
        "        optimizer = tf.keras.optimizers.Adam(learning_rate=learning_rate)\n",
        "\n",
        "    model = tf.keras.Sequential()\n",
        "    model.add(tf.keras.layers.Flatten())\n",
        "    for _ in range(n_hidden):\n",
        "        model.add(tf.keras.layers.Dense(n_neurons, activation=\"relu\"))\n",
        "    model.add(tf.keras.layers.Dense(10, activation=\"softmax\"))\n",
        "    model.compile(loss=\"sparse_categorical_crossentropy\", optimizer=optimizer,\n",
        "                  metrics=[\"accuracy\"])\n",
        "    return model"
      ]
    },
    {
      "cell_type": "code",
      "execution_count": 18,
      "metadata": {
        "colab": {
          "base_uri": "https://localhost:8080/"
        },
        "id": "ud3nBHLCm6mH",
        "outputId": "feb8c436-4f9f-46b7-8c78-cfef10934a1a"
      },
      "outputs": [
        {
          "name": "stdout",
          "output_type": "stream",
          "text": [
            "Trial 5 Complete [00h 00m 18s]\n",
            "val_accuracy: 0.8393999934196472\n",
            "\n",
            "Best val_accuracy So Far: 0.8518000245094299\n",
            "Total elapsed time: 00h 01m 31s\n"
          ]
        }
      ],
      "source": [
        "random_search_tuner = kt.RandomSearch(\n",
        "    build_model, objective=\"val_accuracy\", max_trials=5, overwrite=True,\n",
        "    directory=\"my_fashion_mnist\", project_name=\"my_rnd_search\", seed=42)\n",
        "random_search_tuner.search(X_train, y_train, epochs=10,\n",
        "                           validation_data=(X_valid, y_valid))"
      ]
    },
    {
      "cell_type": "code",
      "execution_count": 19,
      "metadata": {
        "id": "5HkNNtaEm6mH"
      },
      "outputs": [
        {
          "name": "stderr",
          "output_type": "stream",
          "text": [
            "WARNING:absl:At this time, the v2.11+ optimizer `tf.keras.optimizers.SGD` runs slowly on M1/M2 Macs, please use the legacy Keras optimizer instead, located at `tf.keras.optimizers.legacy.SGD`.\n",
            "WARNING:absl:At this time, the v2.11+ optimizer `tf.keras.optimizers.SGD` runs slowly on M1/M2 Macs, please use the legacy Keras optimizer instead, located at `tf.keras.optimizers.legacy.SGD`.\n",
            "WARNING:absl:At this time, the v2.11+ optimizer `tf.keras.optimizers.SGD` runs slowly on M1/M2 Macs, please use the legacy Keras optimizer instead, located at `tf.keras.optimizers.legacy.SGD`.\n"
          ]
        }
      ],
      "source": [
        "top3_models = random_search_tuner.get_best_models(num_models=3)\n",
        "best_model = top3_models[0]"
      ]
    },
    {
      "cell_type": "code",
      "execution_count": 20,
      "metadata": {
        "colab": {
          "base_uri": "https://localhost:8080/"
        },
        "id": "r_rRbxkem6mH",
        "outputId": "e84b7a07-6b5a-4a85-f6d4-c67df9eb0faa"
      },
      "outputs": [
        {
          "data": {
            "text/plain": [
              "{'n_hidden': 7,\n",
              " 'n_neurons': 100,\n",
              " 'learning_rate': 0.0012482904754698163,\n",
              " 'optimizer': 'sgd'}"
            ]
          },
          "execution_count": 20,
          "metadata": {},
          "output_type": "execute_result"
        }
      ],
      "source": [
        "top3_params = random_search_tuner.get_best_hyperparameters(num_trials=3)\n",
        "top3_params[0].values  # najlepsze wartości hiperparametrów"
      ]
    },
    {
      "cell_type": "code",
      "execution_count": 21,
      "metadata": {
        "colab": {
          "base_uri": "https://localhost:8080/"
        },
        "id": "x-cON1OHm6mH",
        "outputId": "8463a613-84f8-445e-da9b-a1eb5d671a69"
      },
      "outputs": [
        {
          "name": "stdout",
          "output_type": "stream",
          "text": [
            "Trial 1 summary\n",
            "Hyperparameters:\n",
            "n_hidden: 7\n",
            "n_neurons: 100\n",
            "learning_rate: 0.0012482904754698163\n",
            "optimizer: sgd\n",
            "Score: 0.8518000245094299\n"
          ]
        }
      ],
      "source": [
        "best_trial = random_search_tuner.oracle.get_best_trials(num_trials=1)[0]\n",
        "best_trial.summary()"
      ]
    },
    {
      "cell_type": "code",
      "execution_count": 22,
      "metadata": {
        "colab": {
          "base_uri": "https://localhost:8080/"
        },
        "id": "zLFqvlytm6mI",
        "outputId": "6a812e01-1251-4b29-afde-c64620b141f1"
      },
      "outputs": [
        {
          "data": {
            "text/plain": [
              "0.8518000245094299"
            ]
          },
          "execution_count": 22,
          "metadata": {},
          "output_type": "execute_result"
        }
      ],
      "source": [
        "best_trial.metrics.get_last_value(\"val_accuracy\")"
      ]
    },
    {
      "cell_type": "code",
      "execution_count": 23,
      "metadata": {
        "colab": {
          "base_uri": "https://localhost:8080/"
        },
        "id": "1MY5kCiIm6mI",
        "outputId": "066456cd-c373-442f-c92c-da1cb88b8fa2"
      },
      "outputs": [
        {
          "name": "stdout",
          "output_type": "stream",
          "text": [
            "Epoch 1/10\n",
            "1875/1875 [==============================] - 2s 1ms/step - loss: 0.3318 - accuracy: 0.8785\n",
            "Epoch 2/10\n",
            "1875/1875 [==============================] - 2s 1ms/step - loss: 0.3229 - accuracy: 0.8810\n",
            "Epoch 3/10\n",
            "1875/1875 [==============================] - 2s 1ms/step - loss: 0.3137 - accuracy: 0.8846\n",
            "Epoch 4/10\n",
            "1875/1875 [==============================] - 2s 1ms/step - loss: 0.3058 - accuracy: 0.8869\n",
            "Epoch 5/10\n",
            "1875/1875 [==============================] - 2s 1ms/step - loss: 0.3005 - accuracy: 0.8876\n",
            "Epoch 6/10\n",
            "1875/1875 [==============================] - 2s 1ms/step - loss: 0.2935 - accuracy: 0.8909\n",
            "Epoch 7/10\n",
            "1875/1875 [==============================] - 2s 1ms/step - loss: 0.2874 - accuracy: 0.8942\n",
            "Epoch 8/10\n",
            "1875/1875 [==============================] - 2s 1ms/step - loss: 0.2822 - accuracy: 0.8947\n",
            "Epoch 9/10\n",
            "1875/1875 [==============================] - 2s 1ms/step - loss: 0.2766 - accuracy: 0.8982\n",
            "Epoch 10/10\n",
            "1875/1875 [==============================] - 2s 1ms/step - loss: 0.2725 - accuracy: 0.8987\n",
            "313/313 [==============================] - 0s 628us/step - loss: 0.4080 - accuracy: 0.8558\n"
          ]
        }
      ],
      "source": [
        "best_model.fit(X_train_full, y_train_full, epochs=10)\n",
        "test_loss, test_accuracy = best_model.evaluate(X_test, y_test)"
      ]
    },
    {
      "cell_type": "markdown",
      "metadata": {
        "id": "QAHpS79hBrAU"
      },
      "source": [
        "W pewnych przypadkach możesz chcieć dostroić hiperparametry wstępnego przetwarzania danych lb argumenty metody `fit()` takie, jak rozmiar wsadu. W tym celu musisz skorzystać z nieco innej techniki: zamiast pisać funkcję `build_model()` , musisz stworzyć podklasę klasy `kt.HyperModel` oraz zdefiniować dwie metody: `build()` oraz `fit()`. Metoda `build()` realizuje dokładnie to samo zadanie, co funkcja `build_model()`. Metoda `fit()` przyjmuje obiekt `HyperParameters()` i skompilowany model jako argumenty, a także wszystkie argumenty ,etody `model.fit()`, po czym trenuje model i zwraca obiekt `History` Jest kwestią zasadniczą, że metoda `fit()` może na podstawie hiperparametrów wyznaczyć sposób wstępnego przetwarzania danych, poprawić rozmiar wsadu itp. Na przykład, poniższa klasa buduje taki sam model jak poprzednio, wraz z identycznymi hiperparametrami, ale wykorzystuje także boolowski hiperparametr `narmalize` decydujacy o tym, czy dane uczące mają być standaryzowane przed trenowaniem modelu."
      ]
    },
    {
      "cell_type": "code",
      "execution_count": 24,
      "metadata": {
        "id": "Q2eDk3tDm6mI"
      },
      "outputs": [],
      "source": [
        "class MyClassificationHyperModel(kt.HyperModel):\n",
        "    def build(self, hp):\n",
        "        return build_model(hp)\n",
        "\n",
        "    def fit(self, hp, model, X, y, **kwargs):\n",
        "        if hp.Boolean(\"normalize\"):\n",
        "            norm_layer = tf.keras.layers.Normalization()\n",
        "            X = norm_layer(X)\n",
        "        return model.fit(X, y, **kwargs)"
      ]
    },
    {
      "cell_type": "markdown",
      "metadata": {
        "id": "ap3EVLTdF3Ms"
      },
      "source": [
        "Możesz następnie przekazać instancję tej klasy do dowolneg obiektu strojącego, zamiast przekazywać funkcję `build_model()`. Zbudujemy np. obiekt `kt.Hyperband()` na podstawie inctancji `MyClassificationHyperModel`"
      ]
    },
    {
      "cell_type": "code",
      "execution_count": 25,
      "metadata": {
        "id": "efrqRz4Im6mI"
      },
      "outputs": [
        {
          "name": "stderr",
          "output_type": "stream",
          "text": [
            "WARNING:absl:At this time, the v2.11+ optimizer `tf.keras.optimizers.SGD` runs slowly on M1/M2 Macs, please use the legacy Keras optimizer instead, located at `tf.keras.optimizers.legacy.SGD`.\n"
          ]
        }
      ],
      "source": [
        "hyperband_tuner = kt.Hyperband(\n",
        "    MyClassificationHyperModel(), objective=\"val_accuracy\", seed=42,\n",
        "    max_epochs=10, factor=3, hyperband_iterations=2,\n",
        "    overwrite=True, directory=\"my_fashion_mnist\", project_name=\"hyperband\")"
      ]
    },
    {
      "cell_type": "code",
      "execution_count": 26,
      "metadata": {
        "id": "DIjLXLpkm6mI"
      },
      "outputs": [
        {
          "name": "stdout",
          "output_type": "stream",
          "text": [
            "Trial 60 Complete [00h 00m 20s]\n",
            "val_accuracy: 0.8519999980926514\n",
            "\n",
            "Best val_accuracy So Far: 0.879800021648407\n",
            "Total elapsed time: 00h 11m 06s\n"
          ]
        }
      ],
      "source": [
        "early_stopping_cb = tf.keras.callbacks.EarlyStopping(patience=20)\n",
        "hyperband_tuner.search(X_train, y_train, epochs=10,\n",
        "                       validation_data=(X_valid, y_valid))"
      ]
    },
    {
      "cell_type": "markdown",
      "metadata": {
        "id": "WgZmAHAoGoe1"
      },
      "source": [
        "Na czym polega metoda strojenia HyperBand? Zaczyna się od szkolenia wielu różnych modeli przez kilka epok, a następnie eliminuje najgorsze modele i zachowuje tylko najlepsze modele 1/faktor (w tym przypadku jedną trzecią część), powtarzając ten proces selekcji, aż pozostanie pojedynczy model `max_epochs` kontroluje maksymalną liczbę epok, przez które będzie szkolony najlepszy model. Cały proces powtarza się w tym przypadku dwukrotnie (`hyperband_iterations=2`). Całkowita liczba epok szkoleniowych we wszystkich modelach dla każdej iteracji hiperband wynosi około `max_epochs * (log(max_epochs) / log(współczynnik)) ** 2`, więc jest to około 44 epoki w tym przykładzie. Pozostałe argumenty są takie same jak w przypadku kt.RandomSearch."
      ]
    },
    {
      "cell_type": "code",
      "execution_count": 27,
      "metadata": {
        "id": "5kE6JL_Jm6mI"
      },
      "outputs": [
        {
          "name": "stdout",
          "output_type": "stream",
          "text": [
            "Trial 10 Complete [00h 00m 18s]\n",
            "val_accuracy: 0.8398000001907349\n",
            "\n",
            "Best val_accuracy So Far: 0.8636000156402588\n",
            "Total elapsed time: 00h 04m 01s\n"
          ]
        }
      ],
      "source": [
        "bayesian_opt_tuner = kt.BayesianOptimization(\n",
        "    MyClassificationHyperModel(), objective=\"val_accuracy\", seed=42,\n",
        "    max_trials=10, alpha=1e-4, beta=2.6,\n",
        "    overwrite=True, directory=\"my_fashion_mnist\", project_name=\"bayesian_opt\")\n",
        "bayesian_opt_tuner.search(X_train, y_train, epochs=10,\n",
        "                          validation_data=(X_valid, y_valid))"
      ]
    },
    {
      "cell_type": "markdown",
      "metadata": {
        "id": "8EE3Q_axJNWi"
      },
      "source": [
        "Keras Tuner zawiera także tuner `kt.BayesianOptimization`: ten\n",
        "algorytm stopniowo uczy się, które obszary przestrzeni hiperparametrów są najbardziej obiecujące, dopasowując model probabilistyczny zwany __procesem Gaussa__. Dzięki temu może stopniowo przybliżać najlepsze hiperparametry. Wadą jest to, że algorytm ma swoje własne hiperparametry: `alfa` reprezentuje poziom szumu, jakiego oczekujesz w miarach wydajności w różnych próbach (domyślnie jest to 10$^{-4}$), a `beta` określa, jak bardzo chcesz, aby algorytm poszukiwać, zamiast po prostu wykorzystywać znane dobre obszary przestrzeni hiperparametrów (domyślnie jest to 2.6). Poza tym tuner ten może być używany tak samo jak poprzednie:"
      ]
    },
    {
      "cell_type": "markdown",
      "metadata": {
        "id": "j5NVUQIcm6mJ"
      },
      "source": [
        "## Ćwiczenie:\n",
        "Wytrenuj głęboki perceptron wielowarstwowy na zestawie danych MNIST (możesz go wczytać za pomocą funkcji `tf.keras.datasets.mnist.load_data()`). (Postaraj się wyszukać optymalny współczynnik uczenia za pomocą następującej techniki: wykładnicze zwiększanie wartości współczynnika uczenia w każdej iteracji, utworzenie wykresu funkcji straty i znalezienie punktu, w którym wartość tej funkcji zaczyna rosnąć*). __Następnie spróbuj dostroić hiperparametry za pomocą Keras Tuner ze wszelkimi udogodnieniami takimi jak zapisywanie punktów kontrolnych, wczesne zatrzymywanie, strojenie funkcji straty, współczynników regularyzacji itp)\n",
        "Punktacja za to zadanie to 1/10 dokładności Twojej sieci na zbiorze testowym wyrażonej w procentach(max 10 pkt).__\n",
        "\n",
        "1. Znormalizuj dane ręcznie.\n",
        "2. Skorzystaj z funkcji `build_model` (a nie podklasy `MyClassificationModel`)\n",
        "3. Przetestuje wszystkie trzy metody strojenia, czyli `RandomSearch`, `HyperBand` oraz `BayesianOptimization` - dla tej ostatniej użyj domyślnych parametrów `alpha` i `beta`.\n",
        "4. Dla wszystkich trzech metod zapisz najlepszy modele, wytrenuj je ponownie, aby narysować krzywe uczenia.\n",
        "5. Wybierz najlepszy model spośród trzech i oblicz dokładność na zbiorze testowym."
      ]
    },
    {
      "cell_type": "markdown",
      "metadata": {
        "id": "3IREwe-dm6mJ"
      },
      "source": [
        "**DO ZROBIENIA**: zaktualizować to rozwiązanie tak, aby wykorzystywało Keras Tuner."
      ]
    },
    {
      "cell_type": "markdown",
      "metadata": {
        "id": "9MG6_MXDm6mJ"
      },
      "source": [
        "Wczytajmy zestaw danych:"
      ]
    },
    {
      "cell_type": "code",
      "execution_count": 28,
      "metadata": {
        "id": "TpjCt_8qm6mJ"
      },
      "outputs": [],
      "source": [
        "(X_train, y_train), (X_test, y_test) = tf.keras.datasets.mnist.load_data()"
      ]
    },
    {
      "cell_type": "markdown",
      "metadata": {
        "id": "tcnzV7aam6mK"
      },
      "source": [
        "Podobnie jak w przypadku zestawu Fashion MNIST, zbiór uczący MNIST składa się z 60 000 obrazów w odcieniach szarości o rozmiarze 28x28 pikseli:"
      ]
    },
    {
      "cell_type": "code",
      "execution_count": 29,
      "metadata": {
        "colab": {
          "base_uri": "https://localhost:8080/"
        },
        "id": "-AEfYQ-2m6mK",
        "outputId": "522b6df3-b1b9-4fb4-a253-9daf646f9e2e"
      },
      "outputs": [
        {
          "data": {
            "text/plain": [
              "(60000, 28, 28)"
            ]
          },
          "execution_count": 29,
          "metadata": {},
          "output_type": "execute_result"
        }
      ],
      "source": [
        "X_train.shape"
      ]
    },
    {
      "cell_type": "markdown",
      "metadata": {
        "id": "GjHoz-dhm6mK"
      },
      "source": [
        "Również tutaj intensywność każdego piksela jest reprezentowana w formie bajtowej (od 0 do 255):"
      ]
    },
    {
      "cell_type": "code",
      "execution_count": 30,
      "metadata": {
        "colab": {
          "base_uri": "https://localhost:8080/"
        },
        "id": "eSs8R-cim6mK",
        "outputId": "9fc4d40f-1912-4a9b-a8f3-72d52ed57e1f"
      },
      "outputs": [
        {
          "data": {
            "text/plain": [
              "dtype('uint8')"
            ]
          },
          "execution_count": 30,
          "metadata": {},
          "output_type": "execute_result"
        }
      ],
      "source": [
        "X_train.dtype"
      ]
    },
    {
      "cell_type": "code",
      "execution_count": 31,
      "metadata": {
        "id": "tgcCtL61_2hH"
      },
      "outputs": [],
      "source": [
        "X_train = X_train / 255.\n",
        "X_test = X_test / 255."
      ]
    },
    {
      "cell_type": "code",
      "execution_count": 32,
      "metadata": {
        "id": "YEVlnaGOm6mN"
      },
      "outputs": [],
      "source": [
        "early_stopping_cb = tf.keras.callbacks.EarlyStopping(patience=8,restore_best_weights=True)\n",
        "checkpoint_cb = tf.keras.callbacks.ModelCheckpoint(\"my_checkpoints\", save_weights_only=True)"
      ]
    },
    {
      "cell_type": "code",
      "execution_count": 33,
      "metadata": {
        "id": "sR8AzeSnjp1D"
      },
      "outputs": [],
      "source": [
        "import keras_tuner as kt\n",
        "\n",
        "def build_model(hp):\n",
        "    n_hidden = hp.Int(\"n_hidden\", min_value=1, max_value=10, default=2)\n",
        "    n_neurons = hp.Int(\"n_neurons\", min_value=16, max_value=256)\n",
        "    learning_rate = hp.Float(\"learning_rate\", min_value=1e-4, max_value=1e-2,\n",
        "                             sampling=\"log\")\n",
        "    optimizer = hp.Choice(\"optimizer\", values=[\"sgd\", \"adam\"])\n",
        "    if optimizer == \"sgd\":\n",
        "        optimizer = tf.keras.optimizers.SGD(learning_rate=learning_rate)\n",
        "    else:\n",
        "        optimizer = tf.keras.optimizers.Adam(learning_rate=learning_rate)\n",
        "\n",
        "    model = tf.keras.Sequential()\n",
        "    model.add(tf.keras.layers.Flatten())\n",
        "    for _ in range(n_hidden):\n",
        "        model.add(tf.keras.layers.Dense(n_neurons, activation=\"relu\"))\n",
        "    model.add(tf.keras.layers.Dense(10, activation=\"softmax\"))\n",
        "    model.compile(loss=\"sparse_categorical_crossentropy\", optimizer=optimizer,\n",
        "                  metrics=[\"accuracy\"])\n",
        "    return model"
      ]
    },
    {
      "cell_type": "code",
      "execution_count": 34,
      "metadata": {
        "id": "MhrTsFBfjs0U"
      },
      "outputs": [
        {
          "name": "stderr",
          "output_type": "stream",
          "text": [
            "WARNING:absl:At this time, the v2.11+ optimizer `tf.keras.optimizers.SGD` runs slowly on M1/M2 Macs, please use the legacy Keras optimizer instead, located at `tf.keras.optimizers.legacy.SGD`.\n"
          ]
        }
      ],
      "source": [
        "bayesian_opt_tuner = kt.BayesianOptimization(\n",
        "    build_model, objective=\"val_accuracy\", seed=33,\n",
        "    max_trials=20, alpha=1e-4, beta=2.6,\n",
        "    overwrite=True, directory=\"my_fashion_mnist\", project_name=\"bayesian_opt\")\n"
      ]
    },
    {
      "cell_type": "code",
      "execution_count": 35,
      "metadata": {
        "id": "zDAXwgmKjsyA"
      },
      "outputs": [
        {
          "name": "stderr",
          "output_type": "stream",
          "text": [
            "WARNING:absl:At this time, the v2.11+ optimizer `tf.keras.optimizers.SGD` runs slowly on M1/M2 Macs, please use the legacy Keras optimizer instead, located at `tf.keras.optimizers.legacy.SGD`.\n"
          ]
        }
      ],
      "source": [
        "hyperband_tuner = kt.Hyperband(\n",
        "    build_model, objective=\"val_accuracy\", seed=33,\n",
        "    max_epochs=10, factor=3, hyperband_iterations=4,\n",
        "    overwrite=True, directory=\"my_fashion_mnist\", project_name=\"hyperband\")"
      ]
    },
    {
      "cell_type": "code",
      "execution_count": 36,
      "metadata": {
        "id": "86swliFKjsrA"
      },
      "outputs": [
        {
          "name": "stderr",
          "output_type": "stream",
          "text": [
            "WARNING:absl:At this time, the v2.11+ optimizer `tf.keras.optimizers.SGD` runs slowly on M1/M2 Macs, please use the legacy Keras optimizer instead, located at `tf.keras.optimizers.legacy.SGD`.\n"
          ]
        }
      ],
      "source": [
        "random_search_tuner = kt.RandomSearch(\n",
        "    build_model, objective=\"val_accuracy\", max_trials=20, overwrite=True,\n",
        "    directory=\"my_fashion_mnist\", project_name=\"my_rnd_search\", seed=33)\n"
      ]
    },
    {
      "cell_type": "code",
      "execution_count": 37,
      "metadata": {
        "colab": {
          "base_uri": "https://localhost:8080/"
        },
        "id": "t3bcDKrbjsku",
        "outputId": "6109f5d4-f46f-4a59-e4c4-be55aab33ed3"
      },
      "outputs": [
        {
          "name": "stdout",
          "output_type": "stream",
          "text": [
            "Trial 20 Complete [00h 02m 23s]\n",
            "val_accuracy: 0.9777500033378601\n",
            "\n",
            "Best val_accuracy So Far: 0.9789999723434448\n",
            "Total elapsed time: 00h 26m 52s\n"
          ]
        }
      ],
      "source": [
        "bayesian_opt_tuner.search(X_train, y_train, epochs=20, validation_split=0.2, callbacks=[early_stopping_cb, checkpoint_cb])\n"
      ]
    },
    {
      "cell_type": "code",
      "execution_count": 38,
      "metadata": {
        "id": "-zdWvgdZjsib"
      },
      "outputs": [
        {
          "name": "stdout",
          "output_type": "stream",
          "text": [
            "Trial 20 Complete [00h 01m 09s]\n",
            "val_accuracy: 0.9676666855812073\n",
            "\n",
            "Best val_accuracy So Far: 0.9785000085830688\n",
            "Total elapsed time: 00h 22m 31s\n"
          ]
        }
      ],
      "source": [
        "random_search_tuner.search(X_train, y_train, epochs=20, validation_split=0.2, callbacks=[early_stopping_cb, checkpoint_cb])"
      ]
    },
    {
      "cell_type": "code",
      "execution_count": 39,
      "metadata": {
        "id": "RyxFB13Ijscv"
      },
      "outputs": [
        {
          "name": "stdout",
          "output_type": "stream",
          "text": [
            "Trial 120 Complete [00h 00m 14s]\n",
            "val_accuracy: 0.9629166722297668\n",
            "\n",
            "Best val_accuracy So Far: 0.9794999957084656\n",
            "Total elapsed time: 00h 26m 49s\n"
          ]
        }
      ],
      "source": [
        "hyperband_tuner.search(X_train, y_train, epochs=20, validation_split=0.2, callbacks=[early_stopping_cb, checkpoint_cb])"
      ]
    },
    {
      "cell_type": "code",
      "execution_count": 40,
      "metadata": {
        "id": "0So5vLK6jsUc"
      },
      "outputs": [
        {
          "name": "stderr",
          "output_type": "stream",
          "text": [
            "WARNING:absl:At this time, the v2.11+ optimizer `tf.keras.optimizers.Adam` runs slowly on M1/M2 Macs, please use the legacy Keras optimizer instead, located at `tf.keras.optimizers.legacy.Adam`.\n",
            "WARNING:absl:At this time, the v2.11+ optimizer `tf.keras.optimizers.Adam` runs slowly on M1/M2 Macs, please use the legacy Keras optimizer instead, located at `tf.keras.optimizers.legacy.Adam`.\n",
            "WARNING:absl:At this time, the v2.11+ optimizer `tf.keras.optimizers.Adam` runs slowly on M1/M2 Macs, please use the legacy Keras optimizer instead, located at `tf.keras.optimizers.legacy.Adam`.\n",
            "WARNING:absl:At this time, the v2.11+ optimizer `tf.keras.optimizers.Adam` runs slowly on M1/M2 Macs, please use the legacy Keras optimizer instead, located at `tf.keras.optimizers.legacy.Adam`.\n",
            "WARNING:absl:At this time, the v2.11+ optimizer `tf.keras.optimizers.Adam` runs slowly on M1/M2 Macs, please use the legacy Keras optimizer instead, located at `tf.keras.optimizers.legacy.Adam`.\n",
            "WARNING:absl:At this time, the v2.11+ optimizer `tf.keras.optimizers.Adam` runs slowly on M1/M2 Macs, please use the legacy Keras optimizer instead, located at `tf.keras.optimizers.legacy.Adam`.\n"
          ]
        }
      ],
      "source": [
        "two_best_model_bayesian = bayesian_opt_tuner.get_best_models(num_models=2)\n",
        "best_model_bayesian = two_best_model_bayesian[0]\n",
        "\n",
        "two_best_model_hyperband = hyperband_tuner.get_best_models(num_models=2)\n",
        "best_model_hyperband = two_best_model_hyperband[0]\n",
        "\n",
        "two_best_model_random_search = random_search_tuner.get_best_models(num_models=2)\n",
        "best_model_random_search = two_best_model_random_search[0]"
      ]
    },
    {
      "cell_type": "code",
      "execution_count": 41,
      "metadata": {
        "id": "eiRpVnXzj5gL"
      },
      "outputs": [
        {
          "name": "stdout",
          "output_type": "stream",
          "text": [
            "Parametry bayesian{'n_hidden': 3, 'n_neurons': 230, 'learning_rate': 0.000505466655750672, 'optimizer': 'adam'}\n",
            "Parametry hyperband{'n_hidden': 1, 'n_neurons': 220, 'learning_rate': 0.0009271244766046284, 'optimizer': 'adam', 'tuner/epochs': 10, 'tuner/initial_epoch': 4, 'tuner/bracket': 1, 'tuner/round': 1, 'tuner/trial_id': '0081'}\n",
            "Parametry random search{'n_hidden': 3, 'n_neurons': 230, 'learning_rate': 0.000505466655750672, 'optimizer': 'adam'}\n"
          ]
        }
      ],
      "source": [
        "params_bayesian = bayesian_opt_tuner.get_best_hyperparameters(num_trials=5)\n",
        "params_hyperband = hyperband_tuner.get_best_hyperparameters(num_trials=5)\n",
        "params_random_search = random_search_tuner.get_best_hyperparameters(num_trials=5)\n",
        "\n",
        "\n",
        "print(f\"Parametry bayesian{params_bayesian[0].values}\")\n",
        "print(f\"Parametry hyperband{params_hyperband[0].values}\")\n",
        "print(f\"Parametry random search{params_random_search[0].values}\")"
      ]
    },
    {
      "cell_type": "code",
      "execution_count": 42,
      "metadata": {
        "id": "Y2cYtN79j5d0"
      },
      "outputs": [
        {
          "name": "stdout",
          "output_type": "stream",
          "text": [
            "Epoch 1/5\n",
            "1500/1500 [==============================] - 4s 3ms/step - loss: 0.0448 - accuracy: 0.9855 - val_loss: 0.0973 - val_accuracy: 0.9752\n",
            "Epoch 2/5\n",
            "1500/1500 [==============================] - 4s 3ms/step - loss: 0.0304 - accuracy: 0.9899 - val_loss: 0.1046 - val_accuracy: 0.9724\n",
            "Epoch 3/5\n",
            "1500/1500 [==============================] - 4s 3ms/step - loss: 0.0240 - accuracy: 0.9926 - val_loss: 0.1090 - val_accuracy: 0.9735\n",
            "Epoch 4/5\n",
            "1500/1500 [==============================] - 4s 3ms/step - loss: 0.0196 - accuracy: 0.9931 - val_loss: 0.1081 - val_accuracy: 0.9742\n",
            "Epoch 5/5\n",
            "1500/1500 [==============================] - 4s 3ms/step - loss: 0.0186 - accuracy: 0.9938 - val_loss: 0.1049 - val_accuracy: 0.9759\n",
            "Epoch 1/5\n",
            "1500/1500 [==============================] - 3s 2ms/step - loss: 0.0091 - accuracy: 0.9975 - val_loss: 0.0974 - val_accuracy: 0.9764\n",
            "Epoch 2/5\n",
            "1500/1500 [==============================] - 2s 2ms/step - loss: 0.0100 - accuracy: 0.9969 - val_loss: 0.0999 - val_accuracy: 0.9788\n",
            "Epoch 3/5\n",
            "1500/1500 [==============================] - 2s 2ms/step - loss: 0.0059 - accuracy: 0.9985 - val_loss: 0.1039 - val_accuracy: 0.9758\n",
            "Epoch 4/5\n",
            "1500/1500 [==============================] - 2s 2ms/step - loss: 0.0079 - accuracy: 0.9974 - val_loss: 0.1027 - val_accuracy: 0.9795\n",
            "Epoch 5/5\n",
            "1500/1500 [==============================] - 2s 2ms/step - loss: 0.0053 - accuracy: 0.9984 - val_loss: 0.1075 - val_accuracy: 0.9761\n",
            "Epoch 1/5\n",
            "1500/1500 [==============================] - 5s 3ms/step - loss: 0.0151 - accuracy: 0.9948 - val_loss: 0.1367 - val_accuracy: 0.9726\n",
            "Epoch 2/5\n",
            "1500/1500 [==============================] - 4s 3ms/step - loss: 0.0144 - accuracy: 0.9952 - val_loss: 0.1051 - val_accuracy: 0.9789\n",
            "Epoch 3/5\n",
            "1500/1500 [==============================] - 4s 3ms/step - loss: 0.0137 - accuracy: 0.9956 - val_loss: 0.1010 - val_accuracy: 0.9795\n",
            "Epoch 4/5\n",
            "1500/1500 [==============================] - 4s 3ms/step - loss: 0.0108 - accuracy: 0.9961 - val_loss: 0.1342 - val_accuracy: 0.9767\n",
            "Epoch 5/5\n",
            "1500/1500 [==============================] - 4s 3ms/step - loss: 0.0129 - accuracy: 0.9960 - val_loss: 0.1128 - val_accuracy: 0.9787\n"
          ]
        },
        {
          "data": {
            "text/plain": [
              "<keras.src.callbacks.History at 0x38430d1d0>"
            ]
          },
          "execution_count": 42,
          "metadata": {},
          "output_type": "execute_result"
        }
      ],
      "source": [
        "best_model_bayesian.fit(X_train, y_train, validation_split=0.2, epochs=5)\n",
        "\n",
        "best_model_hyperband.fit(X_train, y_train, validation_split=0.2, epochs=5)\n",
        "\n",
        "best_model_random_search.fit(X_train, y_train, validation_split=0.2, epochs=5)"
      ]
    },
    {
      "cell_type": "code",
      "execution_count": 43,
      "metadata": {
        "id": "20SevlWyj5ZN"
      },
      "outputs": [],
      "source": [
        "history_bayesian = best_model_bayesian.history\n",
        "\n",
        "history_hyperband = best_model_hyperband.history\n",
        "\n",
        "history_random_search = best_model_random_search.history"
      ]
    },
    {
      "cell_type": "code",
      "execution_count": 51,
      "metadata": {
        "id": "9U5OkVsOj5XG"
      },
      "outputs": [
        {
          "data": {
            "image/png": "[encoded data removed]",
            "text/plain": [
              "<Figure size 640x480 with 1 Axes>"
            ]
          },
          "metadata": {},
          "output_type": "display_data"
        }
      ],
      "source": [
        "acc = history_bayesian.history['accuracy']\n",
        "val_acc = history_bayesian.history['val_accuracy']\n",
        "loss = history_bayesian.history['loss']\n",
        "val_loss = history_bayesian.history['val_loss']\n",
        "\n",
        "epochs = range(1, len(acc) + 1)\n",
        "\n",
        "# Parametr bo definiuje linię przerywaną w postaci niebieskich kropek.\n",
        "plt.plot(epochs, loss, 'bo', label='Strata trenowania')\n",
        "# Parametr b definiuje ciągłą niebieską linię.\n",
        "plt.plot(epochs, val_loss, 'b', label='Strata walidacji')\n",
        "ax = plt.gca()\n",
        "ax.set_ylim([0, 0.3])\n",
        "plt.title('Krzywa uczenia dla modelu pochodzacego z tunera Bayesian')\n",
        "plt.xlabel('Epoki')\n",
        "plt.ylabel('Strata')\n",
        "plt.legend()\n",
        "\n",
        "plt.show()"
      ]
    },
    {
      "cell_type": "code",
      "execution_count": 52,
      "metadata": {
        "id": "3KmCdVzbj5Uw"
      },
      "outputs": [
        {
          "data": {
            "image/png": "[encoded data removed]",
            "text/plain": [
              "<Figure size 640x480 with 1 Axes>"
            ]
          },
          "metadata": {},
          "output_type": "display_data"
        }
      ],
      "source": [
        "acc = history_hyperband.history['accuracy']\n",
        "val_acc = history_hyperband.history['val_accuracy']\n",
        "loss = history_hyperband.history['loss']\n",
        "val_loss = history_hyperband.history['val_loss']\n",
        "\n",
        "epochs = range(1, len(acc) + 1)\n",
        "\n",
        "# Parametr bo definiuje linię przerywaną w postaci niebieskich kropek.\n",
        "plt.plot(epochs, loss, 'bo', label='Strata trenowania')\n",
        "# Parametr b definiuje ciągłą niebieską linię.\n",
        "plt.plot(epochs, val_loss, 'b', label='Strata walidacji')\n",
        "ax = plt.gca()\n",
        "ax.set_ylim([0, 0.3])\n",
        "plt.title('Krzywa uczenia dla modelu pochodzacego z tunera Hyperband')\n",
        "plt.xlabel('Epoki')\n",
        "plt.ylabel('Strata')\n",
        "plt.legend()\n",
        "\n",
        "plt.show()"
      ]
    },
    {
      "cell_type": "code",
      "execution_count": 53,
      "metadata": {
        "id": "ZCq8CoIHj5Sd"
      },
      "outputs": [
        {
          "data": {
            "image/png": "[encoded data removed]",
            "text/plain": [
              "<Figure size 640x480 with 1 Axes>"
            ]
          },
          "metadata": {},
          "output_type": "display_data"
        }
      ],
      "source": [
        "acc = history_random_search.history['accuracy']\n",
        "val_acc = history_random_search.history['val_accuracy']\n",
        "loss = history_random_search.history['loss']\n",
        "val_loss = history_random_search.history['val_loss']\n",
        "\n",
        "epochs = range(1, len(acc) + 1)\n",
        "\n",
        "# Parametr bo definiuje linię przerywaną w postaci niebieskich kropek.\n",
        "plt.plot(epochs, loss, 'bo', label='Strata trenowania')\n",
        "# Parametr b definiuje ciągłą niebieską linię.\n",
        "plt.plot(epochs, val_loss, 'b', label='Strata walidacji')\n",
        "ax = plt.gca()\n",
        "ax.set_ylim([0, 0.3])\n",
        "plt.title('Krzywa uczenia dla modelu pochodzacego z tunera Random Search')\n",
        "plt.xlabel('Epoki')\n",
        "plt.ylabel('Strata')\n",
        "plt.legend()\n",
        "\n",
        "plt.show()"
      ]
    },
    {
      "cell_type": "code",
      "execution_count": 47,
      "metadata": {
        "id": "QvG1hWHIj5Nt"
      },
      "outputs": [
        {
          "name": "stdout",
          "output_type": "stream",
          "text": [
            "313/313 [==============================] - 0s 667us/step - loss: 0.0932 - accuracy: 0.9764\n",
            "313/313 [==============================] - 0s 469us/step - loss: 0.0771 - accuracy: 0.9802\n",
            "313/313 [==============================] - 0s 667us/step - loss: 0.1014 - accuracy: 0.9790\n",
            "Dokladnosc Bayesian: 0.9764000177383423\n",
            "Strata Bayesian: 0.09316035360097885\n",
            "\n",
            "Dokladnosc Hyperband: 0.9801999926567078\n",
            "Strata Bayesian: 0.07708694785833359\n",
            "\n",
            "Dokladnosc Random Search: 0.9789999723434448\n",
            "Strata Bayesian: 0.10139594972133636\n",
            "\n"
          ]
        }
      ],
      "source": [
        "test_loss_bayesian, test_accuracy_bayesian = best_model_bayesian.evaluate(X_test, y_test)\n",
        "\n",
        "test_loss_hyperband, test_accuracy_hyperband = best_model_hyperband.evaluate(X_test, y_test)\n",
        "\n",
        "test_loss_random_search, test_accuracy_random_search = best_model_random_search.evaluate(X_test, y_test)\n",
        "\n",
        "print(f\"Dokladnosc Bayesian: {test_accuracy_bayesian}\\nStrata Bayesian: {test_loss_bayesian}\\n\")\n",
        "print(f\"Dokladnosc Hyperband: {test_accuracy_hyperband}\\nStrata Bayesian: {test_loss_hyperband}\\n\")\n",
        "print(f\"Dokladnosc Random Search: {test_accuracy_random_search}\\nStrata Bayesian: {test_loss_random_search}\\n\")"
      ]
    },
    {
      "cell_type": "code",
      "execution_count": 48,
      "metadata": {
        "id": "V_pSVurMkEev"
      },
      "outputs": [
        {
          "name": "stdout",
          "output_type": "stream",
          "text": [
            "313/313 [==============================] - 0s 464us/step - loss: 0.0771 - accuracy: 0.9802\n",
            "Najlepszy model z tunera Hyperband. Dokladnosc modelu na danych testowych to: 0.9801999926567078 ze strata rowna 0.07708694785833359\n"
          ]
        }
      ],
      "source": [
        "\n",
        "if(max(test_accuracy_bayesian,test_accuracy_hyperband,test_accuracy_random_search) == test_accuracy_bayesian):\n",
        "  test_loss, test_accuracy = best_model_bayesian.evaluate(X_test, y_test)\n",
        "  print(f\"Najlepszy model z tunera Bayesian. Dokladnosc modelu na danych testowych to: {test_accuracy} ze strata rowna {test_loss}\")\n",
        "\n",
        "elif(max(test_accuracy_bayesian,test_accuracy_hyperband,test_accuracy_random_search) == test_accuracy_hyperband):\n",
        "  test_loss, test_accuracy = best_model_hyperband.evaluate(X_test, y_test)\n",
        "  print(f\"Najlepszy model z tunera Hyperband. Dokladnosc modelu na danych testowych to: {test_accuracy} ze strata rowna {test_loss}\")\n",
        "  \n",
        "else:\n",
        "  test_loss, test_accuracy = best_model_random_search.evaluate(X_test, y_test)\n",
        "  print(f\"Najlepszy model z tunera Random Search. Dokladnosc modelu na danych testowych to: {test_accuracy} ze strata rowna {test_loss}\")\n",
        "\n",
        "\n",
        "\n"
      ]
    },
    {
      "cell_type": "code",
      "execution_count": null,
      "metadata": {
        "id": "xTRlcG79kEcr"
      },
      "outputs": [],
      "source": []
    },
    {
      "cell_type": "code",
      "execution_count": null,
      "metadata": {
        "id": "mkPHYbrdkEaS"
      },
      "outputs": [],
      "source": []
    },
    {
      "cell_type": "code",
      "execution_count": null,
      "metadata": {
        "id": "hUkohMPOkEYK"
      },
      "outputs": [],
      "source": []
    }
  ],
  "metadata": {
    "accelerator": "GPU",
    "colab": {
      "gpuType": "T4",
      "provenance": []
    },
    "kernelspec": {
      "display_name": "Python 3",
      "name": "python3"
    },
    "language_info": {
      "codemirror_mode": {
        "name": "ipython",
        "version": 3
      },
      "file_extension": ".py",
      "mimetype": "text/x-python",
      "name": "python",
      "nbconvert_exporter": "python",
      "pygments_lexer": "ipython3",
      "version": "3.11.5"
    },
    "nav_menu": {
      "height": "264px",
      "width": "369px"
    },
    "toc": {
      "navigate_menu": true,
      "number_sections": true,
      "sideBar": true,
      "threshold": 6,
      "toc_cell": false,
      "toc_section_display": "block",
      "toc_window_display": false
    }
  },
  "nbformat": 4,
  "nbformat_minor": 0
}
